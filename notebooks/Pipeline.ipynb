{
 "cells": [
  {
   "cell_type": "code",
   "execution_count": 1,
   "id": "0690b4f0",
   "metadata": {},
   "outputs": [],
   "source": [
    "import onnxruntime as ort\n",
    "import sys\n",
    "sys.path.append(\"..\")\n",
    "import matplotlib.pyplot as plt\n",
    "import pytorch_lightning as pl\n",
    "from argparse import ArgumentParser\n",
    "import torchvision.transforms as transforms\n",
    "import torch\n",
    "import torch.nn as nn\n",
    "import torch.nn.functional as F\n",
    "from tqdm import tqdm\n",
    "from src.utils.DataLoader import HidaDataLoader\n",
    "import pandas as pd\n",
    "import scipy.special as sc\n",
    "import numpy as np\n",
    "from catboost import CatBoostClassifier, CatBoostRegressor\n",
    "from sklearn.ensemble import RandomForestRegressor\n",
    "from sklearn.preprocessing import StandardScaler\n",
    "import os\n",
    "\n",
    "from transformers import ViTFeatureExtractor\n",
    "from xgboost import XGBClassifier"
   ]
  },
  {
   "cell_type": "code",
   "execution_count": 2,
   "id": "32d30794",
   "metadata": {},
   "outputs": [],
   "source": [
    "transform = transforms.Compose([\n",
    "    transforms.CenterCrop(size=(900,900)),\n",
    "    transforms.ToTensor()\n",
    "])"
   ]
  },
  {
   "cell_type": "code",
   "execution_count": 3,
   "id": "4a96f4dd-dfa6-45b4-92ea-4a3bf2740ddc",
   "metadata": {},
   "outputs": [
    {
     "name": "stdout",
     "output_type": "stream",
     "text": [
      "/hkfs/home/project/haicore-project-covchl/er0142/HIDA_LFL/notebooks\n"
     ]
    }
   ],
   "source": [
    "!pwd"
   ]
  },
  {
   "cell_type": "markdown",
   "id": "7d881e8f",
   "metadata": {},
   "source": [
    "# get predictions from ResNet image classifier1:"
   ]
  },
  {
   "cell_type": "code",
   "execution_count": 6,
   "id": "3f790115",
   "metadata": {
    "tags": []
   },
   "outputs": [
    {
     "name": "stderr",
     "output_type": "stream",
     "text": [
      "  0%|          | 0/173 [00:00<?, ?it/s]"
     ]
    },
    {
     "name": "stdout",
     "output_type": "stream",
     "text": [
      "torch.Size([2, 3, 900, 900])\n"
     ]
    },
    {
     "name": "stderr",
     "output_type": "stream",
     "text": [
      "\n"
     ]
    },
    {
     "ename": "InvalidArgument",
     "evalue": "[ONNXRuntimeError] : 2 : INVALID_ARGUMENT : Got invalid dimensions for input: input for the following indices\n index: 1 Got: 3 Expected: 35\n Please fix either the inputs or the model.",
     "output_type": "error",
     "traceback": [
      "\u001b[0;31m---------------------------------------------------------------------------\u001b[0m",
      "\u001b[0;31mInvalidArgument\u001b[0m                           Traceback (most recent call last)",
      "\u001b[0;32m<ipython-input-6-2242817cf087>\u001b[0m in \u001b[0;36m<module>\u001b[0;34m\u001b[0m\n\u001b[1;32m     23\u001b[0m     \u001b[0mmodel_input\u001b[0m\u001b[0;34m,\u001b[0m \u001b[0mlabel\u001b[0m\u001b[0;34m,\u001b[0m \u001b[0;34m(\u001b[0m\u001b[0mlabel_name\u001b[0m\u001b[0;34m,\u001b[0m \u001b[0mimage_name\u001b[0m\u001b[0;34m)\u001b[0m \u001b[0;34m=\u001b[0m \u001b[0mbatch\u001b[0m\u001b[0;34m\u001b[0m\u001b[0;34m\u001b[0m\u001b[0m\n\u001b[1;32m     24\u001b[0m     \u001b[0mprint\u001b[0m\u001b[0;34m(\u001b[0m\u001b[0mmodel_input\u001b[0m\u001b[0;34m.\u001b[0m\u001b[0msize\u001b[0m\u001b[0;34m(\u001b[0m\u001b[0;34m)\u001b[0m\u001b[0;34m)\u001b[0m\u001b[0;34m\u001b[0m\u001b[0;34m\u001b[0m\u001b[0m\n\u001b[0;32m---> 25\u001b[0;31m     \u001b[0moutputs_single\u001b[0m \u001b[0;34m=\u001b[0m \u001b[0msc\u001b[0m\u001b[0;34m.\u001b[0m\u001b[0mexpit\u001b[0m\u001b[0;34m(\u001b[0m\u001b[0mort_sess\u001b[0m\u001b[0;34m.\u001b[0m\u001b[0mrun\u001b[0m\u001b[0;34m(\u001b[0m\u001b[0;34m[\u001b[0m\u001b[0moutput_name\u001b[0m\u001b[0;34m]\u001b[0m\u001b[0;34m,\u001b[0m \u001b[0;34m{\u001b[0m\u001b[0minput_name\u001b[0m\u001b[0;34m:\u001b[0m \u001b[0mmodel_input\u001b[0m\u001b[0;34m.\u001b[0m\u001b[0mcpu\u001b[0m\u001b[0;34m(\u001b[0m\u001b[0;34m)\u001b[0m\u001b[0;34m.\u001b[0m\u001b[0mnumpy\u001b[0m\u001b[0;34m(\u001b[0m\u001b[0;34m)\u001b[0m\u001b[0;34m}\u001b[0m\u001b[0;34m)\u001b[0m\u001b[0;34m[\u001b[0m\u001b[0;36m0\u001b[0m\u001b[0;34m]\u001b[0m\u001b[0;34m)\u001b[0m\u001b[0;34m.\u001b[0m\u001b[0mT\u001b[0m\u001b[0;34m[\u001b[0m\u001b[0;36m0\u001b[0m\u001b[0;34m]\u001b[0m\u001b[0;34m\u001b[0m\u001b[0;34m\u001b[0m\u001b[0m\n\u001b[0m\u001b[1;32m     26\u001b[0m     \u001b[0mpredictions\u001b[0m \u001b[0;34m+=\u001b[0m \u001b[0mlist\u001b[0m\u001b[0;34m(\u001b[0m\u001b[0moutputs_single\u001b[0m\u001b[0;34m)\u001b[0m\u001b[0;34m\u001b[0m\u001b[0;34m\u001b[0m\u001b[0m\n\u001b[1;32m     27\u001b[0m     \u001b[0mtargets\u001b[0m \u001b[0;34m+=\u001b[0m \u001b[0mlist\u001b[0m\u001b[0;34m(\u001b[0m\u001b[0mimage_name\u001b[0m\u001b[0;34m)\u001b[0m\u001b[0;34m\u001b[0m\u001b[0;34m\u001b[0m\u001b[0m\n",
      "\u001b[0;32m/hkfs/home/project/haicore-project-covchl/er0142/myEnv2/lib64/python3.6/site-packages/onnxruntime/capi/onnxruntime_inference_collection.py\u001b[0m in \u001b[0;36mrun\u001b[0;34m(self, output_names, input_feed, run_options)\u001b[0m\n\u001b[1;32m    186\u001b[0m             \u001b[0moutput_names\u001b[0m \u001b[0;34m=\u001b[0m \u001b[0;34m[\u001b[0m\u001b[0moutput\u001b[0m\u001b[0;34m.\u001b[0m\u001b[0mname\u001b[0m \u001b[0;32mfor\u001b[0m \u001b[0moutput\u001b[0m \u001b[0;32min\u001b[0m \u001b[0mself\u001b[0m\u001b[0;34m.\u001b[0m\u001b[0m_outputs_meta\u001b[0m\u001b[0;34m]\u001b[0m\u001b[0;34m\u001b[0m\u001b[0;34m\u001b[0m\u001b[0m\n\u001b[1;32m    187\u001b[0m         \u001b[0;32mtry\u001b[0m\u001b[0;34m:\u001b[0m\u001b[0;34m\u001b[0m\u001b[0;34m\u001b[0m\u001b[0m\n\u001b[0;32m--> 188\u001b[0;31m             \u001b[0;32mreturn\u001b[0m \u001b[0mself\u001b[0m\u001b[0;34m.\u001b[0m\u001b[0m_sess\u001b[0m\u001b[0;34m.\u001b[0m\u001b[0mrun\u001b[0m\u001b[0;34m(\u001b[0m\u001b[0moutput_names\u001b[0m\u001b[0;34m,\u001b[0m \u001b[0minput_feed\u001b[0m\u001b[0;34m,\u001b[0m \u001b[0mrun_options\u001b[0m\u001b[0;34m)\u001b[0m\u001b[0;34m\u001b[0m\u001b[0;34m\u001b[0m\u001b[0m\n\u001b[0m\u001b[1;32m    189\u001b[0m         \u001b[0;32mexcept\u001b[0m \u001b[0mC\u001b[0m\u001b[0;34m.\u001b[0m\u001b[0mEPFail\u001b[0m \u001b[0;32mas\u001b[0m \u001b[0merr\u001b[0m\u001b[0;34m:\u001b[0m\u001b[0;34m\u001b[0m\u001b[0;34m\u001b[0m\u001b[0m\n\u001b[1;32m    190\u001b[0m             \u001b[0;32mif\u001b[0m \u001b[0mself\u001b[0m\u001b[0;34m.\u001b[0m\u001b[0m_enable_fallback\u001b[0m\u001b[0;34m:\u001b[0m\u001b[0;34m\u001b[0m\u001b[0;34m\u001b[0m\u001b[0m\n",
      "\u001b[0;31mInvalidArgument\u001b[0m: [ONNXRuntimeError] : 2 : INVALID_ARGUMENT : Got invalid dimensions for input: input for the following indices\n index: 1 Got: 3 Expected: 35\n Please fix either the inputs or the model."
     ]
    }
   ],
   "source": [
    "dl = HidaDataLoader(num_workers=0, batch_size=2, data_path=\"/hkfs/work/workspace/scratch/ej4555-hida2021/HackathonCovidData\", transform=transform)\n",
    "dl.train_split = 0.6\n",
    "dl.setup()\n",
    "\n",
    "ONNX_FILE = \"../model_775.onnx\"\n",
    "options = ort.SessionOptions()\n",
    "options.inter_op_num_threads = 12\n",
    "options.intra_op_num_threads = 12\n",
    "\n",
    "ort_sess = ort.InferenceSession(ONNX_FILE, sess_options=options)\n",
    "ort_sess.get_inputs()[0].name\n",
    "\n",
    "valid_dataloader = dl.val_dataloader()\n",
    "\n",
    "input_name = ort_sess.get_inputs()[0].name\n",
    "output_name = ort_sess.get_outputs()[0].name\n",
    "\n",
    "predictions = []\n",
    "targets = []\n",
    "\n",
    "counter = 0\n",
    "for batch in tqdm(valid_dataloader):\n",
    "    model_input, label, (label_name, image_name) = batch\n",
    "    print(model_input.size())\n",
    "    outputs_single = sc.expit(ort_sess.run([output_name], {input_name: model_input.cpu().numpy()})[0]).T[0]\n",
    "    predictions += list(outputs_single)\n",
    "    targets += list(image_name)\n",
    "    counter += 1\n",
    "\n",
    "resnset_results = dict(predictions_resnet=predictions, images=targets)\n",
    "resnet_df = pd.DataFrame(resnset_results)"
   ]
  },
  {
   "cell_type": "code",
   "execution_count": 3,
   "id": "881afd90",
   "metadata": {},
   "outputs": [
    {
     "name": "stderr",
     "output_type": "stream",
     "text": [
      "  0%|          | 0/173 [00:07<?, ?it/s]"
     ]
    },
    {
     "name": "stdout",
     "output_type": "stream",
     "text": [
      "torch.Size([2, 35, 900, 900])\n"
     ]
    },
    {
     "name": "stderr",
     "output_type": "stream",
     "text": [
      "\n"
     ]
    },
    {
     "ename": "InvalidArgument",
     "evalue": "[ONNXRuntimeError] : 2 : INVALID_ARGUMENT : Got invalid dimensions for input: input for the following indices\n index: 1 Got: 35 Expected: 3\n Please fix either the inputs or the model.",
     "output_type": "error",
     "traceback": [
      "\u001b[0;31m---------------------------------------------------------------------------\u001b[0m",
      "\u001b[0;31mInvalidArgument\u001b[0m                           Traceback (most recent call last)",
      "\u001b[0;32m<ipython-input-3-881eaf7ce2ba>\u001b[0m in \u001b[0;36m<module>\u001b[0;34m\u001b[0m\n\u001b[1;32m     31\u001b[0m         \u001b[0mfeatures\u001b[0m \u001b[0;34m=\u001b[0m \u001b[0mfeature_extractor\u001b[0m\u001b[0;34m(\u001b[0m\u001b[0mmodel_input\u001b[0m\u001b[0;34m)\u001b[0m\u001b[0;34m\u001b[0m\u001b[0;34m\u001b[0m\u001b[0m\n\u001b[1;32m     32\u001b[0m         \u001b[0mprint\u001b[0m\u001b[0;34m(\u001b[0m\u001b[0mfeatures\u001b[0m\u001b[0;34m[\u001b[0m\u001b[0;34m\"pixel_values\"\u001b[0m\u001b[0;34m]\u001b[0m\u001b[0;34m[\u001b[0m\u001b[0;36m0\u001b[0m\u001b[0;34m]\u001b[0m\u001b[0;34m.\u001b[0m\u001b[0msize\u001b[0m\u001b[0;34m(\u001b[0m\u001b[0;34m)\u001b[0m\u001b[0;34m)\u001b[0m\u001b[0;34m\u001b[0m\u001b[0;34m\u001b[0m\u001b[0m\n\u001b[0;32m---> 33\u001b[0;31m         \u001b[0moutputs_single\u001b[0m \u001b[0;34m=\u001b[0m \u001b[0msc\u001b[0m\u001b[0;34m.\u001b[0m\u001b[0mexpit\u001b[0m\u001b[0;34m(\u001b[0m\u001b[0mort_sess2\u001b[0m\u001b[0;34m.\u001b[0m\u001b[0mrun\u001b[0m\u001b[0;34m(\u001b[0m\u001b[0;34m[\u001b[0m\u001b[0moutput_name\u001b[0m\u001b[0;34m]\u001b[0m\u001b[0;34m,\u001b[0m \u001b[0;34m{\u001b[0m\u001b[0minput_name\u001b[0m\u001b[0;34m:\u001b[0m \u001b[0mfeatures\u001b[0m\u001b[0;34m[\u001b[0m\u001b[0;34m\"pixel_values\"\u001b[0m\u001b[0;34m]\u001b[0m\u001b[0;34m[\u001b[0m\u001b[0;36m0\u001b[0m\u001b[0;34m]\u001b[0m\u001b[0;34m.\u001b[0m\u001b[0mcpu\u001b[0m\u001b[0;34m(\u001b[0m\u001b[0;34m)\u001b[0m\u001b[0;34m.\u001b[0m\u001b[0mdetach\u001b[0m\u001b[0;34m(\u001b[0m\u001b[0;34m)\u001b[0m\u001b[0;34m.\u001b[0m\u001b[0mnumpy\u001b[0m\u001b[0;34m(\u001b[0m\u001b[0;34m)\u001b[0m\u001b[0;34m}\u001b[0m\u001b[0;34m)\u001b[0m\u001b[0;34m[\u001b[0m\u001b[0;36m0\u001b[0m\u001b[0;34m]\u001b[0m\u001b[0;34m)\u001b[0m\u001b[0;34m.\u001b[0m\u001b[0mT\u001b[0m\u001b[0;34m[\u001b[0m\u001b[0;36m0\u001b[0m\u001b[0;34m]\u001b[0m\u001b[0;34m\u001b[0m\u001b[0;34m\u001b[0m\u001b[0m\n\u001b[0m\u001b[1;32m     34\u001b[0m         \u001b[0mpredictions\u001b[0m \u001b[0;34m+=\u001b[0m \u001b[0mlist\u001b[0m\u001b[0;34m(\u001b[0m\u001b[0moutputs_single\u001b[0m\u001b[0;34m)\u001b[0m\u001b[0;34m\u001b[0m\u001b[0;34m\u001b[0m\u001b[0m\n\u001b[1;32m     35\u001b[0m         \u001b[0mtargets\u001b[0m \u001b[0;34m+=\u001b[0m \u001b[0mlist\u001b[0m\u001b[0;34m(\u001b[0m\u001b[0mimage_name\u001b[0m\u001b[0;34m)\u001b[0m\u001b[0;34m\u001b[0m\u001b[0;34m\u001b[0m\u001b[0m\n",
      "\u001b[0;32m/hkfs/home/project/haicore-project-covchl/er0142/myEnv2/lib64/python3.6/site-packages/onnxruntime/capi/onnxruntime_inference_collection.py\u001b[0m in \u001b[0;36mrun\u001b[0;34m(self, output_names, input_feed, run_options)\u001b[0m\n\u001b[1;32m    186\u001b[0m             \u001b[0moutput_names\u001b[0m \u001b[0;34m=\u001b[0m \u001b[0;34m[\u001b[0m\u001b[0moutput\u001b[0m\u001b[0;34m.\u001b[0m\u001b[0mname\u001b[0m \u001b[0;32mfor\u001b[0m \u001b[0moutput\u001b[0m \u001b[0;32min\u001b[0m \u001b[0mself\u001b[0m\u001b[0;34m.\u001b[0m\u001b[0m_outputs_meta\u001b[0m\u001b[0;34m]\u001b[0m\u001b[0;34m\u001b[0m\u001b[0;34m\u001b[0m\u001b[0m\n\u001b[1;32m    187\u001b[0m         \u001b[0;32mtry\u001b[0m\u001b[0;34m:\u001b[0m\u001b[0;34m\u001b[0m\u001b[0;34m\u001b[0m\u001b[0m\n\u001b[0;32m--> 188\u001b[0;31m             \u001b[0;32mreturn\u001b[0m \u001b[0mself\u001b[0m\u001b[0;34m.\u001b[0m\u001b[0m_sess\u001b[0m\u001b[0;34m.\u001b[0m\u001b[0mrun\u001b[0m\u001b[0;34m(\u001b[0m\u001b[0moutput_names\u001b[0m\u001b[0;34m,\u001b[0m \u001b[0minput_feed\u001b[0m\u001b[0;34m,\u001b[0m \u001b[0mrun_options\u001b[0m\u001b[0;34m)\u001b[0m\u001b[0;34m\u001b[0m\u001b[0;34m\u001b[0m\u001b[0m\n\u001b[0m\u001b[1;32m    189\u001b[0m         \u001b[0;32mexcept\u001b[0m \u001b[0mC\u001b[0m\u001b[0;34m.\u001b[0m\u001b[0mEPFail\u001b[0m \u001b[0;32mas\u001b[0m \u001b[0merr\u001b[0m\u001b[0;34m:\u001b[0m\u001b[0;34m\u001b[0m\u001b[0;34m\u001b[0m\u001b[0m\n\u001b[1;32m    190\u001b[0m             \u001b[0;32mif\u001b[0m \u001b[0mself\u001b[0m\u001b[0;34m.\u001b[0m\u001b[0m_enable_fallback\u001b[0m\u001b[0;34m:\u001b[0m\u001b[0;34m\u001b[0m\u001b[0;34m\u001b[0m\u001b[0m\n",
      "\u001b[0;31mInvalidArgument\u001b[0m: [ONNXRuntimeError] : 2 : INVALID_ARGUMENT : Got invalid dimensions for input: input for the following indices\n index: 1 Got: 35 Expected: 3\n Please fix either the inputs or the model."
     ]
    }
   ],
   "source": [
    "dl = HidaDataLoader(num_workers=0, batch_size=2, data_path=\"/hkfs/work/workspace/scratch/ej4555-hida2021/HackathonCovidData\", transform=transform)\n",
    "dl.train_split = 0.6\n",
    "dl.setup()\n",
    "\n",
    "ONNX_FILE = \"/hkfs/home/project/haicore-project-covchl/er0142/HIDA_LFL/logs/checkpoints/HIDA/model_969.onnx\"\n",
    "options = ort.SessionOptions()\n",
    "options.inter_op_num_threads = 12\n",
    "options.intra_op_num_threads = 12\n",
    "\n",
    "ort_sess2 = ort.InferenceSession(ONNX_FILE, sess_options=options)\n",
    "ort_sess2.get_inputs()[0].name\n",
    "\n",
    "valid_dataloader = dl.val_dataloader()\n",
    "\n",
    "input_name = ort_sess2.get_inputs()[0].name\n",
    "output_name = ort_sess2.get_outputs()[0].name\n",
    "\n",
    "predictions = []\n",
    "targets = []\n",
    "\n",
    "\n",
    "feature_extractor = ViTFeatureExtractor(do_resize=False, do_normalize=False)\n",
    "\n",
    "counter = 0\n",
    "tmpfile = \"tmpfile3.csv\"\n",
    "if os.path.isfile(tmpfile):\n",
    "    resnet_df = pd.read_csv(tmpfile)\n",
    "else:\n",
    "    for batch in tqdm(valid_dataloader):\n",
    "        model_input, label, (label_name, image_name) = batch\n",
    "        features = feature_extractor(model_input)\n",
    "        print(features[\"pixel_values\"][0].size())\n",
    "        outputs_single = sc.expit(ort_sess2.run([output_name], {input_name: features[\"pixel_values\"][0].cpu().detach().numpy()})[0]).T[0]\n",
    "        predictions += list(outputs_single)\n",
    "        targets += list(image_name)\n",
    "        counter += 1\n",
    "\n",
    "    vision_results = dict(predictions_resnet=predictions, images=targets)\n",
    "    vision_df = pd.DataFrame(vision_results)\n",
    "    vision_df.to_csv(tmpfile)"
   ]
  },
  {
   "cell_type": "code",
   "execution_count": 4,
   "id": "46414edd-7734-44c2-bd31-99df24652c0a",
   "metadata": {},
   "outputs": [
    {
     "name": "stderr",
     "output_type": "stream",
     "text": [
      "  0%|          | 0/45 [00:00<?, ?it/s]"
     ]
    },
    {
     "name": "stdout",
     "output_type": "stream",
     "text": [
      "torch.Size([2, 3, 900, 900])\n"
     ]
    },
    {
     "name": "stderr",
     "output_type": "stream",
     "text": [
      "  4%|▍         | 2/45 [00:02<00:50,  1.18s/it]"
     ]
    },
    {
     "name": "stdout",
     "output_type": "stream",
     "text": [
      "torch.Size([2, 3, 900, 900])\n"
     ]
    },
    {
     "name": "stderr",
     "output_type": "stream",
     "text": [
      "  7%|▋         | 3/45 [00:03<00:34,  1.23it/s]"
     ]
    },
    {
     "name": "stdout",
     "output_type": "stream",
     "text": [
      "torch.Size([2, 3, 900, 900])\n"
     ]
    },
    {
     "name": "stderr",
     "output_type": "stream",
     "text": [
      "  9%|▉         | 4/45 [00:03<00:26,  1.57it/s]"
     ]
    },
    {
     "name": "stdout",
     "output_type": "stream",
     "text": [
      "torch.Size([2, 3, 900, 900])\n"
     ]
    },
    {
     "name": "stderr",
     "output_type": "stream",
     "text": [
      " 11%|█         | 5/45 [00:03<00:22,  1.81it/s]"
     ]
    },
    {
     "name": "stdout",
     "output_type": "stream",
     "text": [
      "torch.Size([2, 3, 900, 900])\n"
     ]
    },
    {
     "name": "stderr",
     "output_type": "stream",
     "text": [
      " 13%|█▎        | 6/45 [00:04<00:20,  1.87it/s]"
     ]
    },
    {
     "name": "stdout",
     "output_type": "stream",
     "text": [
      "torch.Size([2, 3, 900, 900])\n"
     ]
    },
    {
     "name": "stderr",
     "output_type": "stream",
     "text": [
      " 16%|█▌        | 7/45 [00:04<00:18,  2.10it/s]"
     ]
    },
    {
     "name": "stdout",
     "output_type": "stream",
     "text": [
      "torch.Size([2, 3, 900, 900])\n"
     ]
    },
    {
     "name": "stderr",
     "output_type": "stream",
     "text": [
      " 18%|█▊        | 8/45 [00:04<00:15,  2.35it/s]"
     ]
    },
    {
     "name": "stdout",
     "output_type": "stream",
     "text": [
      "torch.Size([2, 3, 900, 900])\n"
     ]
    },
    {
     "name": "stderr",
     "output_type": "stream",
     "text": [
      " 20%|██        | 9/45 [00:05<00:14,  2.48it/s]"
     ]
    },
    {
     "name": "stdout",
     "output_type": "stream",
     "text": [
      "torch.Size([2, 3, 900, 900])\n"
     ]
    },
    {
     "name": "stderr",
     "output_type": "stream",
     "text": [
      " 22%|██▏       | 10/45 [00:05<00:13,  2.53it/s]"
     ]
    },
    {
     "name": "stdout",
     "output_type": "stream",
     "text": [
      "torch.Size([2, 3, 900, 900])\n"
     ]
    },
    {
     "name": "stderr",
     "output_type": "stream",
     "text": [
      " 24%|██▍       | 11/45 [00:06<00:13,  2.50it/s]"
     ]
    },
    {
     "name": "stdout",
     "output_type": "stream",
     "text": [
      "torch.Size([2, 3, 900, 900])\n"
     ]
    },
    {
     "name": "stderr",
     "output_type": "stream",
     "text": [
      " 27%|██▋       | 12/45 [00:06<00:12,  2.56it/s]"
     ]
    },
    {
     "name": "stdout",
     "output_type": "stream",
     "text": [
      "torch.Size([2, 3, 900, 900])\n"
     ]
    },
    {
     "name": "stderr",
     "output_type": "stream",
     "text": [
      " 29%|██▉       | 13/45 [00:06<00:12,  2.59it/s]"
     ]
    },
    {
     "name": "stdout",
     "output_type": "stream",
     "text": [
      "torch.Size([2, 3, 900, 900])\n"
     ]
    },
    {
     "name": "stderr",
     "output_type": "stream",
     "text": [
      " 31%|███       | 14/45 [00:07<00:11,  2.64it/s]"
     ]
    },
    {
     "name": "stdout",
     "output_type": "stream",
     "text": [
      "torch.Size([2, 3, 900, 900])\n"
     ]
    },
    {
     "name": "stderr",
     "output_type": "stream",
     "text": [
      " 33%|███▎      | 15/45 [00:07<00:11,  2.69it/s]"
     ]
    },
    {
     "name": "stdout",
     "output_type": "stream",
     "text": [
      "torch.Size([2, 3, 900, 900])\n"
     ]
    },
    {
     "name": "stderr",
     "output_type": "stream",
     "text": [
      " 36%|███▌      | 16/45 [00:07<00:10,  2.72it/s]"
     ]
    },
    {
     "name": "stdout",
     "output_type": "stream",
     "text": [
      "torch.Size([2, 3, 900, 900])\n"
     ]
    },
    {
     "name": "stderr",
     "output_type": "stream",
     "text": [
      " 38%|███▊      | 17/45 [00:08<00:10,  2.66it/s]"
     ]
    },
    {
     "name": "stdout",
     "output_type": "stream",
     "text": [
      "torch.Size([2, 3, 900, 900])\n"
     ]
    },
    {
     "name": "stderr",
     "output_type": "stream",
     "text": [
      " 40%|████      | 18/45 [00:08<00:09,  2.76it/s]"
     ]
    },
    {
     "name": "stdout",
     "output_type": "stream",
     "text": [
      "torch.Size([2, 3, 900, 900])\n"
     ]
    },
    {
     "name": "stderr",
     "output_type": "stream",
     "text": [
      " 42%|████▏     | 19/45 [00:09<00:09,  2.78it/s]"
     ]
    },
    {
     "name": "stdout",
     "output_type": "stream",
     "text": [
      "torch.Size([2, 3, 900, 900])\n"
     ]
    },
    {
     "name": "stderr",
     "output_type": "stream",
     "text": [
      " 44%|████▍     | 20/45 [00:09<00:08,  2.79it/s]"
     ]
    },
    {
     "name": "stdout",
     "output_type": "stream",
     "text": [
      "torch.Size([2, 3, 900, 900])\n"
     ]
    },
    {
     "name": "stderr",
     "output_type": "stream",
     "text": [
      " 47%|████▋     | 21/45 [00:09<00:08,  2.75it/s]"
     ]
    },
    {
     "name": "stdout",
     "output_type": "stream",
     "text": [
      "torch.Size([2, 3, 900, 900])\n"
     ]
    },
    {
     "name": "stderr",
     "output_type": "stream",
     "text": [
      " 49%|████▉     | 22/45 [00:10<00:09,  2.49it/s]"
     ]
    },
    {
     "name": "stdout",
     "output_type": "stream",
     "text": [
      "torch.Size([2, 3, 900, 900])\n"
     ]
    },
    {
     "name": "stderr",
     "output_type": "stream",
     "text": [
      " 51%|█████     | 23/45 [00:10<00:08,  2.48it/s]"
     ]
    },
    {
     "name": "stdout",
     "output_type": "stream",
     "text": [
      "torch.Size([2, 3, 900, 900])\n"
     ]
    },
    {
     "name": "stderr",
     "output_type": "stream",
     "text": [
      " 53%|█████▎    | 24/45 [00:11<00:08,  2.39it/s]"
     ]
    },
    {
     "name": "stdout",
     "output_type": "stream",
     "text": [
      "torch.Size([2, 3, 900, 900])\n"
     ]
    },
    {
     "name": "stderr",
     "output_type": "stream",
     "text": [
      " 56%|█████▌    | 25/45 [00:11<00:08,  2.40it/s]"
     ]
    },
    {
     "name": "stdout",
     "output_type": "stream",
     "text": [
      "torch.Size([2, 3, 900, 900])\n"
     ]
    },
    {
     "name": "stderr",
     "output_type": "stream",
     "text": [
      " 58%|█████▊    | 26/45 [00:11<00:07,  2.43it/s]"
     ]
    },
    {
     "name": "stdout",
     "output_type": "stream",
     "text": [
      "torch.Size([2, 3, 900, 900])\n"
     ]
    },
    {
     "name": "stderr",
     "output_type": "stream",
     "text": [
      " 60%|██████    | 27/45 [00:12<00:07,  2.54it/s]"
     ]
    },
    {
     "name": "stdout",
     "output_type": "stream",
     "text": [
      "torch.Size([2, 3, 900, 900])\n"
     ]
    },
    {
     "name": "stderr",
     "output_type": "stream",
     "text": [
      " 62%|██████▏   | 28/45 [00:12<00:06,  2.59it/s]"
     ]
    },
    {
     "name": "stdout",
     "output_type": "stream",
     "text": [
      "torch.Size([2, 3, 900, 900])\n"
     ]
    },
    {
     "name": "stderr",
     "output_type": "stream",
     "text": [
      " 64%|██████▍   | 29/45 [00:12<00:05,  2.73it/s]"
     ]
    },
    {
     "name": "stdout",
     "output_type": "stream",
     "text": [
      "torch.Size([2, 3, 900, 900])\n"
     ]
    },
    {
     "name": "stderr",
     "output_type": "stream",
     "text": [
      " 67%|██████▋   | 30/45 [00:13<00:05,  2.87it/s]"
     ]
    },
    {
     "name": "stdout",
     "output_type": "stream",
     "text": [
      "torch.Size([2, 3, 900, 900])\n"
     ]
    },
    {
     "name": "stderr",
     "output_type": "stream",
     "text": [
      " 69%|██████▉   | 31/45 [00:13<00:04,  3.02it/s]"
     ]
    },
    {
     "name": "stdout",
     "output_type": "stream",
     "text": [
      "torch.Size([2, 3, 900, 900])\n"
     ]
    },
    {
     "name": "stderr",
     "output_type": "stream",
     "text": [
      " 71%|███████   | 32/45 [00:14<00:04,  2.72it/s]"
     ]
    },
    {
     "name": "stdout",
     "output_type": "stream",
     "text": [
      "torch.Size([2, 3, 900, 900])\n"
     ]
    },
    {
     "name": "stderr",
     "output_type": "stream",
     "text": [
      " 73%|███████▎  | 33/45 [00:14<00:04,  2.72it/s]"
     ]
    },
    {
     "name": "stdout",
     "output_type": "stream",
     "text": [
      "torch.Size([2, 3, 900, 900])\n"
     ]
    },
    {
     "name": "stderr",
     "output_type": "stream",
     "text": [
      " 76%|███████▌  | 34/45 [00:14<00:04,  2.70it/s]"
     ]
    },
    {
     "name": "stdout",
     "output_type": "stream",
     "text": [
      "torch.Size([2, 3, 900, 900])\n"
     ]
    },
    {
     "name": "stderr",
     "output_type": "stream",
     "text": [
      " 78%|███████▊  | 35/45 [00:15<00:03,  2.71it/s]"
     ]
    },
    {
     "name": "stdout",
     "output_type": "stream",
     "text": [
      "torch.Size([2, 3, 900, 900])\n"
     ]
    },
    {
     "name": "stderr",
     "output_type": "stream",
     "text": [
      " 80%|████████  | 36/45 [00:15<00:03,  2.68it/s]"
     ]
    },
    {
     "name": "stdout",
     "output_type": "stream",
     "text": [
      "torch.Size([2, 3, 900, 900])\n"
     ]
    },
    {
     "name": "stderr",
     "output_type": "stream",
     "text": [
      " 82%|████████▏ | 37/45 [00:15<00:02,  2.72it/s]"
     ]
    },
    {
     "name": "stdout",
     "output_type": "stream",
     "text": [
      "torch.Size([2, 3, 900, 900])\n"
     ]
    },
    {
     "name": "stderr",
     "output_type": "stream",
     "text": [
      " 84%|████████▍ | 38/45 [00:16<00:02,  2.83it/s]"
     ]
    },
    {
     "name": "stdout",
     "output_type": "stream",
     "text": [
      "torch.Size([2, 3, 900, 900])\n"
     ]
    },
    {
     "name": "stderr",
     "output_type": "stream",
     "text": [
      " 87%|████████▋ | 39/45 [00:16<00:02,  2.81it/s]"
     ]
    },
    {
     "name": "stdout",
     "output_type": "stream",
     "text": [
      "torch.Size([2, 3, 900, 900])\n"
     ]
    },
    {
     "name": "stderr",
     "output_type": "stream",
     "text": [
      " 89%|████████▉ | 40/45 [00:16<00:01,  2.94it/s]"
     ]
    },
    {
     "name": "stdout",
     "output_type": "stream",
     "text": [
      "torch.Size([2, 3, 900, 900])\n"
     ]
    },
    {
     "name": "stderr",
     "output_type": "stream",
     "text": [
      " 91%|█████████ | 41/45 [00:17<00:01,  3.04it/s]"
     ]
    },
    {
     "name": "stdout",
     "output_type": "stream",
     "text": [
      "torch.Size([2, 3, 900, 900])\n"
     ]
    },
    {
     "name": "stderr",
     "output_type": "stream",
     "text": [
      " 93%|█████████▎| 42/45 [00:17<00:00,  3.10it/s]"
     ]
    },
    {
     "name": "stdout",
     "output_type": "stream",
     "text": [
      "torch.Size([2, 3, 900, 900])\n"
     ]
    },
    {
     "name": "stderr",
     "output_type": "stream",
     "text": [
      " 96%|█████████▌| 43/45 [00:17<00:00,  3.07it/s]"
     ]
    },
    {
     "name": "stdout",
     "output_type": "stream",
     "text": [
      "torch.Size([2, 3, 900, 900])\n"
     ]
    },
    {
     "name": "stderr",
     "output_type": "stream",
     "text": [
      " 98%|█████████▊| 44/45 [00:18<00:00,  3.02it/s]"
     ]
    },
    {
     "name": "stdout",
     "output_type": "stream",
     "text": [
      "torch.Size([2, 3, 900, 900])\n"
     ]
    },
    {
     "name": "stderr",
     "output_type": "stream",
     "text": [
      "100%|██████████| 45/45 [00:18<00:00,  2.46it/s]"
     ]
    },
    {
     "name": "stdout",
     "output_type": "stream",
     "text": [
      "torch.Size([1, 3, 900, 900])\n"
     ]
    },
    {
     "name": "stderr",
     "output_type": "stream",
     "text": [
      "\n"
     ]
    }
   ],
   "source": [
    "dl = HidaDataLoader(num_workers=0, batch_size=2, data_path=\"/hkfs/work/workspace/scratch/ej4555-hida2021/HackathonCovidData\", transform=transform)\n",
    "dl.setup(stage=\"test\")\n",
    "\n",
    "ONNX_FILE = \"/hkfs/home/project/haicore-project-covchl/er0142/HIDA_LFL/logs/checkpoints/HIDA/model_969.onnx\"\n",
    "options = ort.SessionOptions()\n",
    "options.inter_op_num_threads = 12\n",
    "options.intra_op_num_threads = 12\n",
    "\n",
    "ort_sess2 = ort.InferenceSession(ONNX_FILE, sess_options=options)\n",
    "ort_sess2.get_inputs()[0].name\n",
    "\n",
    "valid_dataloader = dl.test_dataloader()\n",
    "\n",
    "input_name = ort_sess2.get_inputs()[0].name\n",
    "output_name = ort_sess2.get_outputs()[0].name\n",
    "\n",
    "predictions = []\n",
    "targets = []\n",
    "\n",
    "\n",
    "feature_extractor = ViTFeatureExtractor(do_resize=False, do_normalize=False)\n",
    "\n",
    "counter = 0\n",
    "tmpfile = \"tmpfile4.csv\"\n",
    "if os.path.isfile(tmpfile):\n",
    "    resnet_df = pd.read_csv(tmpfile)\n",
    "else:\n",
    "    for batch in tqdm(valid_dataloader):\n",
    "        model_input, label, (label_name, image_name) = batch\n",
    "        features = feature_extractor(model_input)\n",
    "        print(features[\"pixel_values\"][0].size())\n",
    "        outputs_single = sc.expit(ort_sess2.run([output_name], {input_name: features[\"pixel_values\"][0].cpu().detach().numpy()})[0]).T[0]\n",
    "        predictions += list(outputs_single)\n",
    "        targets += list(image_name)\n",
    "        counter += 1\n",
    "\n",
    "    vision_results = dict(predictions_resnet=predictions, images=targets)\n",
    "    vision_df = pd.DataFrame(vision_results)\n",
    "    vision_df.to_csv(tmpfile)"
   ]
  },
  {
   "cell_type": "markdown",
   "id": "5a4bdd21",
   "metadata": {},
   "source": [
    "# impute datasets:\n"
   ]
  },
  {
   "cell_type": "code",
   "execution_count": 4,
   "id": "e180c5a1",
   "metadata": {},
   "outputs": [],
   "source": [
    "\n",
    "train_data = \"../data/trainSet/trainSet.txt\"\n",
    "test_data = \"../data/testSet/testSet.txt\"\n",
    "\n",
    "df_train = pd.read_csv(train_data)\n",
    "df_train_length_idx = len(df_train)\n",
    "df_test = pd.read_csv(test_data)\n",
    "\n",
    "# Merge the two datasets\n",
    "train_test = [df_train, df_test]\n",
    "df_train_test = pd.concat(train_test)\n",
    "# df_train_test['Prognosis'].loc[df_train_test['Prognosis'] == '<undefined>'] = np.nan\n",
    "df_train_test.loc[df_train_test['Prognosis'] == '<undefined>', 'Prognosis'] = np.nan\n",
    "\n",
    "# all variables in the dataset (incl. outcome)\n",
    "variables = list(df_train_test.columns[3:])\n",
    "# which variables to use for catboost (only numerical ones!)\n",
    "variables_for_regression = ['WBC', 'Temp_C', 'CRP', 'Fibrinogen', 'LDH', 'Ddimer', 'Ox_percentage', 'PaO2', 'SaO2', 'pH', 'Age']\n",
    "variables_for_classification = [ 'RespiratoryFailure', 'Sex', 'CardiovascularDisease', 'DifficultyInBreathing', 'Cough']\n",
    "\n",
    "# Set up catboost for each variable separately\n",
    "# Here we don't update and always use the original dataset with missing values in all variables\n",
    "\n",
    "# Generate new dataframe for imputed values (for this we copy the original test_trai datetset and store the index of the imputed ones and fill them in)\n",
    "df_imputed_train_test = df_train_test.copy()\n",
    "del df_imputed_train_test['Prognosis']\n",
    "\n",
    "# Prognosis should be Boolian\n",
    "df_imputed_train_test['Prognosis']= np.nan\n",
    "df_imputed_train_test.loc[df_train_test['Prognosis']=='MILD', 'Prognosis'] = 0\n",
    "df_imputed_train_test.loc[df_train_test['Prognosis']=='SEVERE', 'Prognosis'] = 1\n",
    "\n",
    "\n",
    "df_train_test['Prognosis'] = df_imputed_train_test['Prognosis']\n",
    "\n",
    "if not os.path.isfile(\"imputed_test.csv\"):\n",
    "    for catboost_variable in variables_for_regression:\n",
    "        print(catboost_variable)\n",
    "        catboost_features = variables.copy()\n",
    "        catboost_features.remove(catboost_variable)\n",
    "        catboost_df_train_test = df_train_test[df_train_test[catboost_variable].notna()]\n",
    "        X_train = catboost_df_train_test[catboost_features]\n",
    "        y_train = catboost_df_train_test[catboost_variable]\n",
    "\n",
    "        index_missing = df_train_test[catboost_variable].isna()\n",
    "        catboost_df_test = df_train_test[df_train_test[catboost_variable].isna()]\n",
    "        X_test = catboost_df_test[catboost_features]\n",
    "        y_test = catboost_df_test[catboost_variable]\n",
    "\n",
    "        # fit the model \n",
    "        model = CatBoostRegressor(verbose=0, iterations=1000, task_type=\"GPU\", devices='0:1')\n",
    "        model.fit(X_train.values, y_train.values)\n",
    "\n",
    "        # make a prediction\n",
    "        yhat = model.predict(X_test.values)\n",
    "        df_imputed_train_test.loc[df_imputed_train_test[catboost_variable].isna(), catboost_variable] = yhat.T[0].copy()\n",
    "\n",
    "\n",
    "    for catboost_variable in variables_for_classification:\n",
    "        print(catboost_variable)\n",
    "        catboost_features = variables.copy()\n",
    "        catboost_features.remove(catboost_variable)\n",
    "        catboost_df_train_test = df_train_test[df_train_test[catboost_variable].notna()]\n",
    "        X_train = catboost_df_train_test[catboost_features]\n",
    "        y_train = catboost_df_train_test[catboost_variable]\n",
    "\n",
    "        index_missing = df_train_test[catboost_variable].isna()\n",
    "        catboost_df_test = df_train_test[df_train_test[catboost_variable].isna()]\n",
    "        X_test = catboost_df_test[catboost_features]\n",
    "        y_test = catboost_df_test[catboost_variable]\n",
    "\n",
    "        # fit the model \n",
    "        model = CatBoostClassifier(verbose=0, iterations=1000, task_type=\"GPU\", devices='0:1')\n",
    "        model.fit(X_train.values, y_train.values)\n",
    "\n",
    "        # make a prediction\n",
    "        yhat = model.predict(X_test.values)\n",
    "        df_imputed_train_test.loc[df_imputed_train_test[catboost_variable].isna(), catboost_variable] = yhat.T[0].copy()\n",
    "\n",
    "    # separate the two datasets:\n",
    "    df_imputed_train = df_imputed_train_test.iloc[0:df_train_length_idx, : ]\n",
    "    df_imputed_test = df_imputed_train_test.iloc[df_train_length_idx:, :]\n",
    "\n",
    "    df_imputed_train.to_csv(\"imputed_train.csv\")\n",
    "    df_imputed_test.to_csv(\"imputed_test.csv\")\n",
    "\n",
    "else:\n",
    "    df_imputed_train = pd.read_csv(\"imputed_train.csv\")\n",
    "    df_imputed_test = pd.read_csv(\"imputed_test.csv\")\n"
   ]
  },
  {
   "cell_type": "markdown",
   "id": "8eed3157",
   "metadata": {},
   "source": [
    "# Train tabular models\n",
    "### train catboost not imputed:"
   ]
  },
  {
   "cell_type": "code",
   "execution_count": 5,
   "id": "3c84a550",
   "metadata": {},
   "outputs": [
    {
     "data": {
      "text/plain": [
       "<catboost.core.CatBoostClassifier at 0x273b0f23040>"
      ]
     },
     "execution_count": 5,
     "metadata": {},
     "output_type": "execute_result"
    }
   ],
   "source": [
    "df_for_rf = df_train.copy()\n",
    "df_for_rf[\"Prognosis\"] = df_for_rf[\"Prognosis\"].astype(\"category\").cat.codes\n",
    "df_for_rf = df_for_rf[variables]\n",
    "\n",
    "catboost_features = variables.copy()\n",
    "catboost_features.remove(\"Prognosis\")\n",
    "\n",
    "train_valid_split = 0.8\n",
    "sep_index = int(863 * train_valid_split)\n",
    "\n",
    "X_train = df_for_rf[catboost_features].iloc[0:sep_index]\n",
    "y_train = df_for_rf[\"Prognosis\"].iloc[0:sep_index]\n",
    "\n",
    "\n",
    "X_test = df_for_rf[catboost_features].iloc[sep_index:]\n",
    "y_test = df_for_rf[\"Prognosis\"].iloc[sep_index:]\n",
    "image_names = df_train[\"ImageFile\"].iloc[sep_index:]\n",
    "\n",
    "# fit the model \n",
    "cat_boost_raw_model = CatBoostClassifier(verbose=0, iterations=1000, task_type=\"GPU\", devices='0:1')\n",
    "cat_boost_raw_model.fit(X_train.values, y_train.values)"
   ]
  },
  {
   "cell_type": "markdown",
   "id": "d5ac5acb",
   "metadata": {},
   "source": [
    "### xgboost not imputed"
   ]
  },
  {
   "cell_type": "code",
   "execution_count": 63,
   "id": "a4202001",
   "metadata": {},
   "outputs": [
    {
     "name": "stdout",
     "output_type": "stream",
     "text": [
      "[12:33:15] WARNING: C:/Users/Administrator/workspace/xgboost-win64_release_1.4.0/src/learner.cc:1095: Starting in XGBoost 1.3.0, the default evaluation metric used with the objective 'binary:logistic' was changed from 'error' to 'logloss'. Explicitly set eval_metric if you'd like to restore the old behavior.\n"
     ]
    },
    {
     "name": "stderr",
     "output_type": "stream",
     "text": [
      "C:\\Users\\Tobias\\Anaconda3\\envs\\pytorch_local\\lib\\site-packages\\xgboost\\sklearn.py:1146: UserWarning: The use of label encoder in XGBClassifier is deprecated and will be removed in a future release. To remove this warning, do the following: 1) Pass option use_label_encoder=False when constructing XGBClassifier object; and 2) Encode your labels (y) as integers starting with 0, i.e. 0, 1, 2, ..., [num_class - 1].\n",
      "  warnings.warn(label_encoder_deprecation_msg, UserWarning)\n"
     ]
    },
    {
     "data": {
      "text/plain": [
       "XGBClassifier(base_score=0.5, booster='gbtree', colsample_bylevel=1,\n",
       "              colsample_bynode=1, colsample_bytree=1, gamma=0, gpu_id=-1,\n",
       "              importance_type='gain', interaction_constraints='',\n",
       "              learning_rate=0.300000012, max_delta_step=0, max_depth=6,\n",
       "              min_child_weight=1, missing=nan, monotone_constraints='()',\n",
       "              n_estimators=100, n_jobs=8, num_parallel_tree=1, random_state=0,\n",
       "              reg_alpha=0, reg_lambda=1, scale_pos_weight=1, subsample=1,\n",
       "              tree_method='exact', validate_parameters=1, verbosity=None)"
      ]
     },
     "execution_count": 63,
     "metadata": {},
     "output_type": "execute_result"
    }
   ],
   "source": [
    "# get predictions from xgboost not imputed:\n",
    "df_for_xg = df_train.copy()\n",
    "df_for_xg[\"Prognosis\"] = df_for_xg[\"Prognosis\"].astype(\"category\").cat.codes\n",
    "df_for_xg = df_for_xg[variables]\n",
    "\n",
    "xgboost_features = variables.copy()\n",
    "xgboost_features.remove(\"Prognosis\")\n",
    "\n",
    "train_valid_split = 0.8\n",
    "sep_index = int(863 * train_valid_split)\n",
    "\n",
    "X_train = df_for_xg[xgboost_features].iloc[0:sep_index]\n",
    "y_train = df_for_xg[\"Prognosis\"].iloc[0:sep_index]\n",
    "\n",
    "\n",
    "X_test = df_for_xg[xgboost_features].iloc[sep_index:]\n",
    "y_test = df_for_xg[\"Prognosis\"].iloc[sep_index:]\n",
    "image_names = df_train[\"ImageFile\"].iloc[sep_index:]\n",
    "\n",
    "# fit model on training data\n",
    "model_xboost = XGBClassifier()\n",
    "model_xboost.fit(X_train.values, y_train.values)"
   ]
  },
  {
   "cell_type": "markdown",
   "id": "c1a86e0b",
   "metadata": {},
   "source": [
    "### train catboost imputed:"
   ]
  },
  {
   "cell_type": "code",
   "execution_count": 64,
   "id": "e69e2ad5",
   "metadata": {},
   "outputs": [
    {
     "data": {
      "text/plain": [
       "<catboost.core.CatBoostClassifier at 0x27383dba850>"
      ]
     },
     "execution_count": 64,
     "metadata": {},
     "output_type": "execute_result"
    }
   ],
   "source": [
    "catboost_features = variables.copy()\n",
    "catboost_features.remove(\"Prognosis\")\n",
    "\n",
    "train_valid_split = 0.8\n",
    "sep_index = int(863 * train_valid_split)\n",
    "\n",
    "X_train = df_imputed_train[catboost_features].iloc[0:sep_index]\n",
    "y_train = df_imputed_train[\"Prognosis\"].iloc[0:sep_index]\n",
    "\n",
    "X_test = df_imputed_train[catboost_features].iloc[sep_index:]\n",
    "y_test = df_imputed_train[\"Prognosis\"].iloc[sep_index:]\n",
    "image_names = df_train[\"ImageFile\"].iloc[sep_index:]\n",
    "\n",
    "# fit the model\n",
    "cat_boost_imputed_model = CatBoostClassifier(verbose=0, iterations=1000, task_type=\"GPU\", devices='0:1')\n",
    "cat_boost_imputed_model.fit(X_train.values, y_train.values)"
   ]
  },
  {
   "cell_type": "markdown",
   "id": "074f25d6",
   "metadata": {},
   "source": [
    "### train imputed random forest:"
   ]
  },
  {
   "cell_type": "code",
   "execution_count": 65,
   "id": "65bc38d1",
   "metadata": {},
   "outputs": [
    {
     "data": {
      "text/plain": [
       "RandomForestRegressor(n_estimators=20, random_state=0)"
      ]
     },
     "execution_count": 65,
     "metadata": {},
     "output_type": "execute_result"
    }
   ],
   "source": [
    "scaler = StandardScaler()\n",
    "X_train_scaled = scaler.fit_transform(X_train.values)\n",
    "X_test_scaled = scaler.transform(X_test.values)\n",
    "\n",
    "rf_regressor = RandomForestRegressor(n_estimators=20, random_state=0)\n",
    "rf_regressor.fit(X_train_scaled, y_train)"
   ]
  },
  {
   "cell_type": "markdown",
   "id": "17376d57",
   "metadata": {},
   "source": [
    "### xgboost imputed "
   ]
  },
  {
   "cell_type": "code",
   "execution_count": 66,
   "id": "831dd3a4",
   "metadata": {},
   "outputs": [
    {
     "name": "stdout",
     "output_type": "stream",
     "text": [
      "[12:34:08] WARNING: C:/Users/Administrator/workspace/xgboost-win64_release_1.4.0/src/learner.cc:1095: Starting in XGBoost 1.3.0, the default evaluation metric used with the objective 'binary:logistic' was changed from 'error' to 'logloss'. Explicitly set eval_metric if you'd like to restore the old behavior.\n"
     ]
    },
    {
     "name": "stderr",
     "output_type": "stream",
     "text": [
      "C:\\Users\\Tobias\\Anaconda3\\envs\\pytorch_local\\lib\\site-packages\\xgboost\\sklearn.py:1146: UserWarning: The use of label encoder in XGBClassifier is deprecated and will be removed in a future release. To remove this warning, do the following: 1) Pass option use_label_encoder=False when constructing XGBClassifier object; and 2) Encode your labels (y) as integers starting with 0, i.e. 0, 1, 2, ..., [num_class - 1].\n",
      "  warnings.warn(label_encoder_deprecation_msg, UserWarning)\n"
     ]
    },
    {
     "data": {
      "text/plain": [
       "XGBClassifier(base_score=0.5, booster='gbtree', colsample_bylevel=1,\n",
       "              colsample_bynode=1, colsample_bytree=1, gamma=0, gpu_id=-1,\n",
       "              importance_type='gain', interaction_constraints='',\n",
       "              learning_rate=0.300000012, max_delta_step=0, max_depth=6,\n",
       "              min_child_weight=1, missing=nan, monotone_constraints='()',\n",
       "              n_estimators=100, n_jobs=8, num_parallel_tree=1, random_state=0,\n",
       "              reg_alpha=0, reg_lambda=1, scale_pos_weight=1, subsample=1,\n",
       "              tree_method='exact', validate_parameters=1, verbosity=None)"
      ]
     },
     "execution_count": 66,
     "metadata": {},
     "output_type": "execute_result"
    }
   ],
   "source": [
    "# fit model on training data\n",
    "model_xboost_imputed = XGBClassifier()\n",
    "model_xboost_imputed.fit(X_train.values, y_train.values)\n"
   ]
  },
  {
   "cell_type": "markdown",
   "id": "d04fae00",
   "metadata": {},
   "source": [
    "# Get predictions to train final catboost:"
   ]
  },
  {
   "cell_type": "code",
   "execution_count": 75,
   "id": "f5769451",
   "metadata": {},
   "outputs": [
    {
     "name": "stderr",
     "output_type": "stream",
     "text": [
      "C:\\Users\\Tobias\\Anaconda3\\envs\\pytorch_local\\lib\\site-packages\\xgboost\\data.py:112: UserWarning: Use subset (sliced data) of np.ndarray is not recommended because it will generate extra copies and increase memory consumption\n",
      "  warnings.warn(\n"
     ]
    }
   ],
   "source": [
    "# from catboost raw:\n",
    "df_for_rf = df_train.copy()\n",
    "df_for_rf[\"Prognosis\"] = df_for_rf[\"Prognosis\"].astype(\"category\").cat.codes\n",
    "df_for_rf = df_for_rf[variables]\n",
    "\n",
    "catboost_features = variables.copy()\n",
    "catboost_features.remove(\"Prognosis\")\n",
    "\n",
    "train_valid_split = 0.6\n",
    "sep_index = int(863 * train_valid_split)\n",
    "\n",
    "X_test = df_for_rf[catboost_features].iloc[sep_index:]\n",
    "y_test = df_for_rf[\"Prognosis\"].iloc[sep_index:]\n",
    "image_names = df_train[\"ImageFile\"].iloc[sep_index:]\n",
    "\n",
    "yhat = cat_boost_raw_model.predict(X_test.values)\n",
    "\n",
    "catboost_results = dict(predictions_cb_raw=list(yhat), images=image_names.to_list())\n",
    "catboost_results_df = pd.DataFrame(catboost_results)\n",
    "\n",
    "# from xgboost raw:\n",
    "X_test = df_for_xg[xgboost_features].iloc[sep_index:]\n",
    "y_test = df_for_xg[\"Prognosis\"].iloc[sep_index:]\n",
    "image_names = df_train[\"ImageFile\"].iloc[sep_index:]\n",
    "y_pred = model_xboost.predict(X_test.values)\n",
    "xgboost_results = dict(predictions_xg=list(y_pred), images=image_names.to_list())\n",
    "xgboost_results_df = pd.DataFrame(xgboost_results)\n",
    "\n",
    "# from catbtoost imputed:\n",
    "catboost_features = variables.copy()\n",
    "catboost_features.remove(\"Prognosis\")\n",
    "\n",
    "X_test = df_imputed_train[catboost_features].iloc[sep_index:]\n",
    "y_test = df_imputed_train[\"Prognosis\"].iloc[sep_index:]\n",
    "image_names = df_train[\"ImageFile\"].iloc[sep_index:]\n",
    "\n",
    "yhat = cat_boost_imputed_model.predict(X_test.values)\n",
    "\n",
    "catboost_imputed_results = dict(predictions_cb_imputed=list(yhat), images=image_names.to_list(), targets=y_test.values)\n",
    "catboost_imputed_results_df = pd.DataFrame(catboost_imputed_results)\n",
    "\n",
    "# from random forest:\n",
    "X_test_scaled = scaler.transform(X_test.values)\n",
    "y_pred = rf_regressor.predict(X_test_scaled)\n",
    "\n",
    "rf_results = dict(predictions_rf=list(y_pred), images=image_names.to_list())\n",
    "rf_results_df = pd.DataFrame(rf_results)\n",
    "\n",
    "\n",
    "# from xgboost imputed:\n",
    "y_pred = model_xboost_imputed.predict(X_test.values)\n",
    "xgboost_imputed_results = dict(predictions_xg_imputed=list(y_pred), images=image_names.to_list())\n",
    "xgboost_imputed_results_df = pd.DataFrame(xgboost_imputed_results)"
   ]
  },
  {
   "cell_type": "markdown",
   "id": "daecc25d",
   "metadata": {},
   "source": [
    "# Stack predicions and train final model:"
   ]
  },
  {
   "cell_type": "code",
   "execution_count": 76,
   "id": "2716e97a",
   "metadata": {},
   "outputs": [],
   "source": [
    "rf_results_df = rf_results_df.set_index(\"images\")\n",
    "catboost_imputed_results_df = catboost_imputed_results_df.set_index(\"images\")\n",
    "catboost_results_df = catboost_results_df.set_index(\"images\")\n",
    "resnet_df = resnet_df.set_index(\"images\")\n",
    "xgboost_imputed_results_df = xgboost_imputed_results_df.set_index(\"images\")\n",
    "xgboost_results_df = xgboost_results_df.set_index(\"images\")"
   ]
  },
  {
   "cell_type": "code",
   "execution_count": 77,
   "id": "149b5415",
   "metadata": {},
   "outputs": [],
   "source": [
    "all_predictions = pd.concat([rf_results_df, catboost_imputed_results_df, catboost_results_df, resnet_df, xgboost_imputed_results_df, xgboost_results_df], axis=1)\n",
    "X_train = all_predictions.drop(columns=\"targets\").values[:-10]\n",
    "X_test = all_predictions.drop(columns=\"targets\").values[-10:]\n",
    "y_train = all_predictions[\"targets\"].values[:-10]\n",
    "y_test = all_predictions[\"targets\"].values[-10:]\n",
    "\n",
    "# final stacking model:\n",
    "final_model = CatBoostClassifier(verbose=0, iterations=1000, task_type=\"GPU\", devices='0:1')\n",
    "final_model.fit(X_train, y_train)\n",
    "yhat = final_model.predict(X_test)"
   ]
  },
  {
   "cell_type": "code",
   "execution_count": 78,
   "id": "786ae2cb",
   "metadata": {},
   "outputs": [
    {
     "data": {
      "text/html": [
       "<div>\n",
       "<style scoped>\n",
       "    .dataframe tbody tr th:only-of-type {\n",
       "        vertical-align: middle;\n",
       "    }\n",
       "\n",
       "    .dataframe tbody tr th {\n",
       "        vertical-align: top;\n",
       "    }\n",
       "\n",
       "    .dataframe thead th {\n",
       "        text-align: right;\n",
       "    }\n",
       "</style>\n",
       "<table border=\"1\" class=\"dataframe\">\n",
       "  <thead>\n",
       "    <tr style=\"text-align: right;\">\n",
       "      <th></th>\n",
       "      <th>predictions_rf</th>\n",
       "      <th>predictions_cb_imputed</th>\n",
       "      <th>targets</th>\n",
       "      <th>predictions_cb_raw</th>\n",
       "      <th>predictions_resnet</th>\n",
       "      <th>predictions_xg_imputed</th>\n",
       "      <th>predictions_xg</th>\n",
       "    </tr>\n",
       "    <tr>\n",
       "      <th>images</th>\n",
       "      <th></th>\n",
       "      <th></th>\n",
       "      <th></th>\n",
       "      <th></th>\n",
       "      <th></th>\n",
       "      <th></th>\n",
       "      <th></th>\n",
       "    </tr>\n",
       "  </thead>\n",
       "  <tbody>\n",
       "    <tr>\n",
       "      <th>P_404.png</th>\n",
       "      <td>0.05</td>\n",
       "      <td>0.0</td>\n",
       "      <td>0.0</td>\n",
       "      <td>0</td>\n",
       "      <td>0.444716</td>\n",
       "      <td>0.0</td>\n",
       "      <td>0</td>\n",
       "    </tr>\n",
       "    <tr>\n",
       "      <th>P_428.png</th>\n",
       "      <td>0.15</td>\n",
       "      <td>0.0</td>\n",
       "      <td>0.0</td>\n",
       "      <td>0</td>\n",
       "      <td>0.512289</td>\n",
       "      <td>0.0</td>\n",
       "      <td>0</td>\n",
       "    </tr>\n",
       "    <tr>\n",
       "      <th>P_507.png</th>\n",
       "      <td>0.80</td>\n",
       "      <td>1.0</td>\n",
       "      <td>1.0</td>\n",
       "      <td>1</td>\n",
       "      <td>0.457178</td>\n",
       "      <td>1.0</td>\n",
       "      <td>1</td>\n",
       "    </tr>\n",
       "    <tr>\n",
       "      <th>P_508.png</th>\n",
       "      <td>0.85</td>\n",
       "      <td>1.0</td>\n",
       "      <td>1.0</td>\n",
       "      <td>1</td>\n",
       "      <td>0.618459</td>\n",
       "      <td>1.0</td>\n",
       "      <td>1</td>\n",
       "    </tr>\n",
       "    <tr>\n",
       "      <th>P_526.png</th>\n",
       "      <td>0.65</td>\n",
       "      <td>0.0</td>\n",
       "      <td>1.0</td>\n",
       "      <td>0</td>\n",
       "      <td>0.639944</td>\n",
       "      <td>1.0</td>\n",
       "      <td>1</td>\n",
       "    </tr>\n",
       "    <tr>\n",
       "      <th>...</th>\n",
       "      <td>...</td>\n",
       "      <td>...</td>\n",
       "      <td>...</td>\n",
       "      <td>...</td>\n",
       "      <td>...</td>\n",
       "      <td>...</td>\n",
       "      <td>...</td>\n",
       "    </tr>\n",
       "    <tr>\n",
       "      <th>P_1_12.png</th>\n",
       "      <td>0.70</td>\n",
       "      <td>1.0</td>\n",
       "      <td>1.0</td>\n",
       "      <td>1</td>\n",
       "      <td>0.516278</td>\n",
       "      <td>1.0</td>\n",
       "      <td>1</td>\n",
       "    </tr>\n",
       "    <tr>\n",
       "      <th>P_1_8.png</th>\n",
       "      <td>0.70</td>\n",
       "      <td>1.0</td>\n",
       "      <td>1.0</td>\n",
       "      <td>1</td>\n",
       "      <td>0.419664</td>\n",
       "      <td>1.0</td>\n",
       "      <td>1</td>\n",
       "    </tr>\n",
       "    <tr>\n",
       "      <th>P_1_10.png</th>\n",
       "      <td>0.10</td>\n",
       "      <td>0.0</td>\n",
       "      <td>0.0</td>\n",
       "      <td>0</td>\n",
       "      <td>0.442719</td>\n",
       "      <td>0.0</td>\n",
       "      <td>0</td>\n",
       "    </tr>\n",
       "    <tr>\n",
       "      <th>P_1_26.png</th>\n",
       "      <td>0.35</td>\n",
       "      <td>0.0</td>\n",
       "      <td>1.0</td>\n",
       "      <td>1</td>\n",
       "      <td>0.453410</td>\n",
       "      <td>1.0</td>\n",
       "      <td>1</td>\n",
       "    </tr>\n",
       "    <tr>\n",
       "      <th>P_1_146.png</th>\n",
       "      <td>0.15</td>\n",
       "      <td>0.0</td>\n",
       "      <td>0.0</td>\n",
       "      <td>0</td>\n",
       "      <td>0.495341</td>\n",
       "      <td>0.0</td>\n",
       "      <td>0</td>\n",
       "    </tr>\n",
       "  </tbody>\n",
       "</table>\n",
       "<p>346 rows × 7 columns</p>\n",
       "</div>"
      ],
      "text/plain": [
       "             predictions_rf  predictions_cb_imputed  targets  \\\n",
       "images                                                         \n",
       "P_404.png              0.05                     0.0      0.0   \n",
       "P_428.png              0.15                     0.0      0.0   \n",
       "P_507.png              0.80                     1.0      1.0   \n",
       "P_508.png              0.85                     1.0      1.0   \n",
       "P_526.png              0.65                     0.0      1.0   \n",
       "...                     ...                     ...      ...   \n",
       "P_1_12.png             0.70                     1.0      1.0   \n",
       "P_1_8.png              0.70                     1.0      1.0   \n",
       "P_1_10.png             0.10                     0.0      0.0   \n",
       "P_1_26.png             0.35                     0.0      1.0   \n",
       "P_1_146.png            0.15                     0.0      0.0   \n",
       "\n",
       "             predictions_cb_raw  predictions_resnet  predictions_xg_imputed  \\\n",
       "images                                                                        \n",
       "P_404.png                     0            0.444716                     0.0   \n",
       "P_428.png                     0            0.512289                     0.0   \n",
       "P_507.png                     1            0.457178                     1.0   \n",
       "P_508.png                     1            0.618459                     1.0   \n",
       "P_526.png                     0            0.639944                     1.0   \n",
       "...                         ...                 ...                     ...   \n",
       "P_1_12.png                    1            0.516278                     1.0   \n",
       "P_1_8.png                     1            0.419664                     1.0   \n",
       "P_1_10.png                    0            0.442719                     0.0   \n",
       "P_1_26.png                    1            0.453410                     1.0   \n",
       "P_1_146.png                   0            0.495341                     0.0   \n",
       "\n",
       "             predictions_xg  \n",
       "images                       \n",
       "P_404.png                 0  \n",
       "P_428.png                 0  \n",
       "P_507.png                 1  \n",
       "P_508.png                 1  \n",
       "P_526.png                 1  \n",
       "...                     ...  \n",
       "P_1_12.png                1  \n",
       "P_1_8.png                 1  \n",
       "P_1_10.png                0  \n",
       "P_1_26.png                1  \n",
       "P_1_146.png               0  \n",
       "\n",
       "[346 rows x 7 columns]"
      ]
     },
     "execution_count": 78,
     "metadata": {},
     "output_type": "execute_result"
    }
   ],
   "source": [
    "all_predictions"
   ]
  },
  {
   "cell_type": "markdown",
   "id": "e2b6303e",
   "metadata": {},
   "source": [
    "# Get final predictions on testset for submission:"
   ]
  },
  {
   "cell_type": "code",
   "execution_count": 79,
   "id": "0d68eae1",
   "metadata": {},
   "outputs": [
    {
     "name": "stderr",
     "output_type": "stream",
     "text": [
      "100%|██████████████████████████████████████████████████████████████████████████████████████████████████████████████████████████████████████████████████████████████████████████| 12/12 [01:45<00:00,  8.82s/it]\n",
      "C:\\Users\\Tobias\\Anaconda3\\envs\\pytorch_local\\lib\\site-packages\\xgboost\\data.py:112: UserWarning: Use subset (sliced data) of np.ndarray is not recommended because it will generate extra copies and increase memory consumption\n",
      "  warnings.warn(\n",
      "C:\\Users\\Tobias\\Anaconda3\\envs\\pytorch_local\\lib\\site-packages\\xgboost\\data.py:112: UserWarning: Use subset (sliced data) of np.ndarray is not recommended because it will generate extra copies and increase memory consumption\n",
      "  warnings.warn(\n"
     ]
    }
   ],
   "source": [
    "# from resnet:\n",
    "dl = HidaDataLoader(num_workers=0, batch_size=8, data_path=\"../data\", transform=transform)\n",
    "dl.setup(stage=\"test\")\n",
    "\n",
    "predictions = []\n",
    "targets = []\n",
    "test_dataloader = dl.test_dataloader()\n",
    "\n",
    "counter = 0\n",
    "for batch in tqdm(test_dataloader):\n",
    "    model_input, label, (label_name, image_name) = batch\n",
    "    outputs_single = sc.expit(ort_sess.run([output_name], {input_name: model_input.cpu().numpy()})[0]).T[0]\n",
    "    predictions += list(outputs_single)\n",
    "    targets += list(image_name)\n",
    "\n",
    "resnset_results = dict(predictions_resnet=predictions, images=targets)\n",
    "resnet_df = pd.DataFrame(resnset_results)\n",
    "resnet_df[\"images\"] = resnet_df[\"images\"].apply(lambda x: x.split(\".\")[0])\n",
    "\n",
    "# from catboost raw:\n",
    "df_for_rf = df_test.copy()\n",
    "df_for_rf[\"Prognosis\"] = df_for_rf[\"Prognosis\"].astype(\"category\").cat.codes\n",
    "df_for_rf = df_for_rf[variables]\n",
    "\n",
    "catboost_features = variables.copy()\n",
    "catboost_features.remove(\"Prognosis\")\n",
    "\n",
    "X_test = df_for_rf[catboost_features]\n",
    "y_test = df_for_rf[\"Prognosis\"]\n",
    "image_names = df_test[\"PatientID\"]\n",
    "\n",
    "yhat = cat_boost_raw_model.predict(X_test.values)\n",
    "\n",
    "catboost_results = dict(predictions_cb_raw=list(yhat), images=image_names.to_list())\n",
    "catboost_results_df = pd.DataFrame(catboost_results)\n",
    "\n",
    "# from xgboost raw:\n",
    "y_pred = model_xboost.predict(X_test.values)\n",
    "xgboost_results = dict(predictions_xg=list(y_pred), images=image_names.to_list())\n",
    "xgboost_results_df = pd.DataFrame(xgboost_results)\n",
    "\n",
    "# from catbtoost imputed:\n",
    "catboost_features = variables.copy()\n",
    "catboost_features.remove(\"Prognosis\")\n",
    "\n",
    "X_test = df_imputed_test[catboost_features]\n",
    "y_test = df_imputed_test[\"Prognosis\"]\n",
    "image_names = df_test[\"PatientID\"]\n",
    "\n",
    "yhat = cat_boost_imputed_model.predict(X_test.values)\n",
    "\n",
    "catboost_imputed_results = dict(predictions_cb_imputed=list(yhat), images=image_names.to_list(), targets=y_test.values)\n",
    "catboost_imputed_results_df = pd.DataFrame(catboost_imputed_results)\n",
    "\n",
    "# from random forest:\n",
    "X_test_scaled = scaler.transform(X_test.values)\n",
    "y_pred = rf_regressor.predict(X_test_scaled)\n",
    "\n",
    "rf_results = dict(predictions_rf=list(y_pred), images=image_names.to_list())\n",
    "rf_results_df = pd.DataFrame(rf_results)\n",
    "\n",
    "# from xgboost imputed:\n",
    "y_pred = model_xboost_imputed.predict(X_test.values)\n",
    "xgboost_imputed_results = dict(predictions_xg_imputed=list(y_pred), images=image_names.to_list())\n",
    "xgboost_imputed_results_df = pd.DataFrame(xgboost_imputed_results)"
   ]
  },
  {
   "cell_type": "markdown",
   "id": "6cb2a507",
   "metadata": {},
   "source": [
    "### stack final predictions"
   ]
  },
  {
   "cell_type": "code",
   "execution_count": 80,
   "id": "80161b23",
   "metadata": {},
   "outputs": [],
   "source": [
    "# stack predicions:\n",
    "rf_results_df = rf_results_df.set_index(\"images\")\n",
    "catboost_imputed_results_df = catboost_imputed_results_df.set_index(\"images\")\n",
    "catboost_results_df = catboost_results_df.set_index(\"images\")\n",
    "resnet_df = resnet_df.set_index(\"images\")\n",
    "xgboost_imputed_results_df = xgboost_imputed_results_df.set_index(\"images\")\n",
    "xgboost_results_df = xgboost_results_df.set_index(\"images\")"
   ]
  },
  {
   "cell_type": "code",
   "execution_count": 81,
   "id": "a6d2fa56",
   "metadata": {},
   "outputs": [],
   "source": [
    "\n",
    "# make final prediction:\n",
    "all_predictions = pd.concat([rf_results_df, catboost_imputed_results_df, catboost_results_df, resnet_df, xgboost_imputed_results_df, xgboost_results_df], axis=1)\n",
    "X_test = all_predictions.drop(columns=\"targets\").values\n",
    "yhat = final_model.predict(X_test)"
   ]
  },
  {
   "cell_type": "code",
   "execution_count": 82,
   "id": "63dc0033",
   "metadata": {},
   "outputs": [
    {
     "data": {
      "text/html": [
       "<div>\n",
       "<style scoped>\n",
       "    .dataframe tbody tr th:only-of-type {\n",
       "        vertical-align: middle;\n",
       "    }\n",
       "\n",
       "    .dataframe tbody tr th {\n",
       "        vertical-align: top;\n",
       "    }\n",
       "\n",
       "    .dataframe thead th {\n",
       "        text-align: right;\n",
       "    }\n",
       "</style>\n",
       "<table border=\"1\" class=\"dataframe\">\n",
       "  <thead>\n",
       "    <tr style=\"text-align: right;\">\n",
       "      <th></th>\n",
       "      <th>predictions_cb_raw</th>\n",
       "    </tr>\n",
       "    <tr>\n",
       "      <th>images</th>\n",
       "      <th></th>\n",
       "    </tr>\n",
       "  </thead>\n",
       "  <tbody>\n",
       "    <tr>\n",
       "      <th>P_102</th>\n",
       "      <td>0</td>\n",
       "    </tr>\n",
       "    <tr>\n",
       "      <th>P_117</th>\n",
       "      <td>0</td>\n",
       "    </tr>\n",
       "    <tr>\n",
       "      <th>P_16</th>\n",
       "      <td>0</td>\n",
       "    </tr>\n",
       "    <tr>\n",
       "      <th>P_118</th>\n",
       "      <td>0</td>\n",
       "    </tr>\n",
       "    <tr>\n",
       "      <th>P_114</th>\n",
       "      <td>0</td>\n",
       "    </tr>\n",
       "    <tr>\n",
       "      <th>...</th>\n",
       "      <td>...</td>\n",
       "    </tr>\n",
       "    <tr>\n",
       "      <th>P_88</th>\n",
       "      <td>0</td>\n",
       "    </tr>\n",
       "    <tr>\n",
       "      <th>P_92</th>\n",
       "      <td>0</td>\n",
       "    </tr>\n",
       "    <tr>\n",
       "      <th>P_86</th>\n",
       "      <td>1</td>\n",
       "    </tr>\n",
       "    <tr>\n",
       "      <th>P_9</th>\n",
       "      <td>1</td>\n",
       "    </tr>\n",
       "    <tr>\n",
       "      <th>P_90</th>\n",
       "      <td>1</td>\n",
       "    </tr>\n",
       "  </tbody>\n",
       "</table>\n",
       "<p>120 rows × 1 columns</p>\n",
       "</div>"
      ],
      "text/plain": [
       "        predictions_cb_raw\n",
       "images                    \n",
       "P_102                    0\n",
       "P_117                    0\n",
       "P_16                     0\n",
       "P_118                    0\n",
       "P_114                    0\n",
       "...                    ...\n",
       "P_88                     0\n",
       "P_92                     0\n",
       "P_86                     1\n",
       "P_9                      1\n",
       "P_90                     1\n",
       "\n",
       "[120 rows x 1 columns]"
      ]
     },
     "execution_count": 82,
     "metadata": {},
     "output_type": "execute_result"
    }
   ],
   "source": [
    "catboost_results_df"
   ]
  },
  {
   "cell_type": "code",
   "execution_count": null,
   "id": "2c30ff33",
   "metadata": {},
   "outputs": [],
   "source": []
  }
 ],
 "metadata": {
  "kernelspec": {
   "display_name": "myEnv2",
   "language": "python",
   "name": "myenv2"
  },
  "language_info": {
   "codemirror_mode": {
    "name": "ipython",
    "version": 3
   },
   "file_extension": ".py",
   "mimetype": "text/x-python",
   "name": "python",
   "nbconvert_exporter": "python",
   "pygments_lexer": "ipython3",
   "version": "3.6.8"
  }
 },
 "nbformat": 4,
 "nbformat_minor": 5
}
