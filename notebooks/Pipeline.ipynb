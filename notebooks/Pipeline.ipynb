{
 "cells": [
  {
   "cell_type": "code",
   "execution_count": 62,
   "id": "0690b4f0",
   "metadata": {},
   "outputs": [],
   "source": [
    "import onnxruntime as ort\n",
    "import sys\n",
    "sys.path.append(\"..\")\n",
    "import matplotlib.pyplot as plt\n",
    "import pytorch_lightning as pl\n",
    "from argparse import ArgumentParser\n",
    "import torchvision.transforms as transforms\n",
    "import torch\n",
    "import torch.nn as nn\n",
    "import torch.nn.functional as F\n",
    "from tqdm import tqdm\n",
    "from src.utils.DataLoader import HidaDataLoader\n",
    "import pandas as pd\n",
    "import scipy.special as sc\n",
    "import numpy as np\n",
    "from catboost import CatBoostClassifier, CatBoostRegressor\n",
    "from sklearn.ensemble import RandomForestRegressor\n",
    "from sklearn.preprocessing import StandardScaler\n",
    "import os\n",
    "\n",
    "from transformers import ViTFeatureExtractor\n",
    "from xgboost import XGBClassifier"
   ]
  },
  {
   "cell_type": "code",
   "execution_count": 59,
   "id": "32d30794",
   "metadata": {},
   "outputs": [],
   "source": [
    "transform = transforms.Compose([\n",
    "    transforms.CenterCrop(size=(900,900)),\n",
    "    transforms.ToTensor()\n",
    "])\n"
   ]
  },
  {
   "cell_type": "markdown",
   "id": "7d881e8f",
   "metadata": {},
   "source": [
    "# get predictions from ResNet image classifier1:"
   ]
  },
  {
   "cell_type": "code",
   "execution_count": 60,
   "id": "3f790115",
   "metadata": {
    "tags": []
   },
   "outputs": [
    {
     "name": "stderr",
     "output_type": "stream",
     "text": [
      "100%|██████████████████████████████████████████████████████████████████████████████████████████████████████████████████████████████████████████████████████████████████████████| 44/44 [07:14<00:00,  9.87s/it]\n"
     ]
    }
   ],
   "source": [
    "dl = HidaDataLoader(num_workers=0, batch_size=8, data_path=\"../data\", transform=transform)\n",
    "dl.train_split = 0.6\n",
    "dl.setup()\n",
    "\n",
    "ONNX_FILE = \"C:/Users/Tobias/PycharmProjects/HIDA_LFL/logs/checkpoints/HIDA/model_193.onnx\"\n",
    "options = ort.SessionOptions()\n",
    "options.inter_op_num_threads = 12\n",
    "options.intra_op_num_threads = 12\n",
    "\n",
    "ort_sess = ort.InferenceSession(ONNX_FILE, sess_options=options)\n",
    "ort_sess.get_inputs()[0].name\n",
    "\n",
    "valid_dataloader = dl.val_dataloader()\n",
    "\n",
    "input_name = ort_sess.get_inputs()[0].name\n",
    "output_name = ort_sess.get_outputs()[0].name\n",
    "\n",
    "predictions = []\n",
    "targets = []\n",
    "\n",
    "counter = 0\n",
    "for batch in tqdm(valid_dataloader):\n",
    "    model_input, label, (label_name, image_name) = batch\n",
    "\n",
    "    outputs_single = sc.expit(ort_sess.run([output_name], {input_name: model_input.cpu().numpy()})[0]).T[0]\n",
    "    predictions += list(outputs_single)\n",
    "    targets += list(image_name)\n",
    "    counter += 1\n",
    "\n",
    "resnset_results = dict(predictions_resnet=predictions, images=targets)\n",
    "resnet_df = pd.DataFrame(resnset_results)"
   ]
  },
  {
   "cell_type": "code",
   "execution_count": 57,
   "id": "881afd90",
   "metadata": {},
   "outputs": [
    {
     "name": "stderr",
     "output_type": "stream",
     "text": [
      "  0%|                                                                                                                                                                                  | 0/173 [00:01<?, ?it/s]\n"
     ]
    },
    {
     "ename": "ValueError",
     "evalue": "Unable to create tensor, you should probably activate padding with 'padding=True' to have batched tensors with the same length.",
     "output_type": "error",
     "traceback": [
      "\u001b[1;31m---------------------------------------------------------------------------\u001b[0m",
      "\u001b[1;31mValueError\u001b[0m                                Traceback (most recent call last)",
      "\u001b[1;32m~\\Anaconda3\\envs\\pytorch_local\\lib\\site-packages\\transformers\\feature_extraction_utils.py\u001b[0m in \u001b[0;36mconvert_to_tensors\u001b[1;34m(self, tensor_type)\u001b[0m\n\u001b[0;32m    157\u001b[0m                 \u001b[1;32mif\u001b[0m \u001b[1;32mnot\u001b[0m \u001b[0mis_tensor\u001b[0m\u001b[1;33m(\u001b[0m\u001b[0mvalue\u001b[0m\u001b[1;33m)\u001b[0m\u001b[1;33m:\u001b[0m\u001b[1;33m\u001b[0m\u001b[1;33m\u001b[0m\u001b[0m\n\u001b[1;32m--> 158\u001b[1;33m                     \u001b[0mtensor\u001b[0m \u001b[1;33m=\u001b[0m \u001b[0mas_tensor\u001b[0m\u001b[1;33m(\u001b[0m\u001b[0mvalue\u001b[0m\u001b[1;33m)\u001b[0m\u001b[1;33m\u001b[0m\u001b[1;33m\u001b[0m\u001b[0m\n\u001b[0m\u001b[0;32m    159\u001b[0m \u001b[1;33m\u001b[0m\u001b[0m\n",
      "\u001b[1;31mValueError\u001b[0m: only one element tensors can be converted to Python scalars",
      "\nDuring handling of the above exception, another exception occurred:\n",
      "\u001b[1;31mValueError\u001b[0m                                Traceback (most recent call last)",
      "\u001b[1;32m<ipython-input-57-3f7ad544e78b>\u001b[0m in \u001b[0;36m<module>\u001b[1;34m\u001b[0m\n\u001b[0;32m     25\u001b[0m \u001b[1;32mfor\u001b[0m \u001b[0mbatch\u001b[0m \u001b[1;32min\u001b[0m \u001b[0mtqdm\u001b[0m\u001b[1;33m(\u001b[0m\u001b[0mvalid_dataloader\u001b[0m\u001b[1;33m)\u001b[0m\u001b[1;33m:\u001b[0m\u001b[1;33m\u001b[0m\u001b[1;33m\u001b[0m\u001b[0m\n\u001b[0;32m     26\u001b[0m     \u001b[0mmodel_input\u001b[0m\u001b[1;33m,\u001b[0m \u001b[0mlabel\u001b[0m\u001b[1;33m,\u001b[0m \u001b[1;33m(\u001b[0m\u001b[0mlabel_name\u001b[0m\u001b[1;33m,\u001b[0m \u001b[0mimage_name\u001b[0m\u001b[1;33m)\u001b[0m \u001b[1;33m=\u001b[0m \u001b[0mbatch\u001b[0m\u001b[1;33m\u001b[0m\u001b[1;33m\u001b[0m\u001b[0m\n\u001b[1;32m---> 27\u001b[1;33m     \u001b[0mfeatures\u001b[0m \u001b[1;33m=\u001b[0m \u001b[0mfeature_extractor\u001b[0m\u001b[1;33m(\u001b[0m\u001b[0mmodel_input\u001b[0m\u001b[1;33m,\u001b[0m \u001b[0mreturn_tensors\u001b[0m\u001b[1;33m=\u001b[0m\u001b[1;34m\"pt\"\u001b[0m\u001b[1;33m)\u001b[0m\u001b[1;33m\u001b[0m\u001b[1;33m\u001b[0m\u001b[0m\n\u001b[0m\u001b[0;32m     28\u001b[0m     \u001b[0moutputs_single\u001b[0m \u001b[1;33m=\u001b[0m \u001b[0msc\u001b[0m\u001b[1;33m.\u001b[0m\u001b[0mexpit\u001b[0m\u001b[1;33m(\u001b[0m\u001b[0mort_sess2\u001b[0m\u001b[1;33m.\u001b[0m\u001b[0mrun\u001b[0m\u001b[1;33m(\u001b[0m\u001b[1;33m[\u001b[0m\u001b[0moutput_name\u001b[0m\u001b[1;33m]\u001b[0m\u001b[1;33m,\u001b[0m \u001b[1;33m{\u001b[0m\u001b[0minput_name\u001b[0m\u001b[1;33m:\u001b[0m \u001b[0mfeatures\u001b[0m\u001b[1;33m[\u001b[0m\u001b[1;34m\"pixel_values\"\u001b[0m\u001b[1;33m]\u001b[0m\u001b[1;33m[\u001b[0m\u001b[1;36m0\u001b[0m\u001b[1;33m]\u001b[0m\u001b[1;33m}\u001b[0m\u001b[1;33m)\u001b[0m\u001b[1;33m[\u001b[0m\u001b[1;36m0\u001b[0m\u001b[1;33m]\u001b[0m\u001b[1;33m)\u001b[0m\u001b[1;33m.\u001b[0m\u001b[0mT\u001b[0m\u001b[1;33m[\u001b[0m\u001b[1;36m0\u001b[0m\u001b[1;33m]\u001b[0m\u001b[1;33m\u001b[0m\u001b[1;33m\u001b[0m\u001b[0m\n\u001b[0;32m     29\u001b[0m     \u001b[0mpredictions\u001b[0m \u001b[1;33m+=\u001b[0m \u001b[0mlist\u001b[0m\u001b[1;33m(\u001b[0m\u001b[0moutputs_single\u001b[0m\u001b[1;33m)\u001b[0m\u001b[1;33m\u001b[0m\u001b[1;33m\u001b[0m\u001b[0m\n",
      "\u001b[1;32m~\\Anaconda3\\envs\\pytorch_local\\lib\\site-packages\\transformers\\models\\vit\\feature_extraction_vit.py\u001b[0m in \u001b[0;36m__call__\u001b[1;34m(self, images, return_tensors, **kwargs)\u001b[0m\n\u001b[0;32m    126\u001b[0m         \u001b[1;31m# return as BatchFeature\u001b[0m\u001b[1;33m\u001b[0m\u001b[1;33m\u001b[0m\u001b[1;33m\u001b[0m\u001b[0m\n\u001b[0;32m    127\u001b[0m         \u001b[0mdata\u001b[0m \u001b[1;33m=\u001b[0m \u001b[1;33m{\u001b[0m\u001b[1;34m\"pixel_values\"\u001b[0m\u001b[1;33m:\u001b[0m \u001b[0mimages\u001b[0m\u001b[1;33m}\u001b[0m\u001b[1;33m\u001b[0m\u001b[1;33m\u001b[0m\u001b[0m\n\u001b[1;32m--> 128\u001b[1;33m         \u001b[0mencoded_inputs\u001b[0m \u001b[1;33m=\u001b[0m \u001b[0mBatchFeature\u001b[0m\u001b[1;33m(\u001b[0m\u001b[0mdata\u001b[0m\u001b[1;33m=\u001b[0m\u001b[0mdata\u001b[0m\u001b[1;33m,\u001b[0m \u001b[0mtensor_type\u001b[0m\u001b[1;33m=\u001b[0m\u001b[0mreturn_tensors\u001b[0m\u001b[1;33m)\u001b[0m\u001b[1;33m\u001b[0m\u001b[1;33m\u001b[0m\u001b[0m\n\u001b[0m\u001b[0;32m    129\u001b[0m \u001b[1;33m\u001b[0m\u001b[0m\n\u001b[0;32m    130\u001b[0m         \u001b[1;32mreturn\u001b[0m \u001b[0mencoded_inputs\u001b[0m\u001b[1;33m\u001b[0m\u001b[1;33m\u001b[0m\u001b[0m\n",
      "\u001b[1;32m~\\Anaconda3\\envs\\pytorch_local\\lib\\site-packages\\transformers\\feature_extraction_utils.py\u001b[0m in \u001b[0;36m__init__\u001b[1;34m(self, data, tensor_type)\u001b[0m\n\u001b[0;32m     71\u001b[0m     \u001b[1;32mdef\u001b[0m \u001b[0m__init__\u001b[0m\u001b[1;33m(\u001b[0m\u001b[0mself\u001b[0m\u001b[1;33m,\u001b[0m \u001b[0mdata\u001b[0m\u001b[1;33m:\u001b[0m \u001b[0mOptional\u001b[0m\u001b[1;33m[\u001b[0m\u001b[0mDict\u001b[0m\u001b[1;33m[\u001b[0m\u001b[0mstr\u001b[0m\u001b[1;33m,\u001b[0m \u001b[0mAny\u001b[0m\u001b[1;33m]\u001b[0m\u001b[1;33m]\u001b[0m \u001b[1;33m=\u001b[0m \u001b[1;32mNone\u001b[0m\u001b[1;33m,\u001b[0m \u001b[0mtensor_type\u001b[0m\u001b[1;33m:\u001b[0m \u001b[0mUnion\u001b[0m\u001b[1;33m[\u001b[0m\u001b[1;32mNone\u001b[0m\u001b[1;33m,\u001b[0m \u001b[0mstr\u001b[0m\u001b[1;33m,\u001b[0m \u001b[0mTensorType\u001b[0m\u001b[1;33m]\u001b[0m \u001b[1;33m=\u001b[0m \u001b[1;32mNone\u001b[0m\u001b[1;33m)\u001b[0m\u001b[1;33m:\u001b[0m\u001b[1;33m\u001b[0m\u001b[1;33m\u001b[0m\u001b[0m\n\u001b[0;32m     72\u001b[0m         \u001b[0msuper\u001b[0m\u001b[1;33m(\u001b[0m\u001b[1;33m)\u001b[0m\u001b[1;33m.\u001b[0m\u001b[0m__init__\u001b[0m\u001b[1;33m(\u001b[0m\u001b[0mdata\u001b[0m\u001b[1;33m)\u001b[0m\u001b[1;33m\u001b[0m\u001b[1;33m\u001b[0m\u001b[0m\n\u001b[1;32m---> 73\u001b[1;33m         \u001b[0mself\u001b[0m\u001b[1;33m.\u001b[0m\u001b[0mconvert_to_tensors\u001b[0m\u001b[1;33m(\u001b[0m\u001b[0mtensor_type\u001b[0m\u001b[1;33m=\u001b[0m\u001b[0mtensor_type\u001b[0m\u001b[1;33m)\u001b[0m\u001b[1;33m\u001b[0m\u001b[1;33m\u001b[0m\u001b[0m\n\u001b[0m\u001b[0;32m     74\u001b[0m \u001b[1;33m\u001b[0m\u001b[0m\n\u001b[0;32m     75\u001b[0m     \u001b[1;32mdef\u001b[0m \u001b[0m__getitem__\u001b[0m\u001b[1;33m(\u001b[0m\u001b[0mself\u001b[0m\u001b[1;33m,\u001b[0m \u001b[0mitem\u001b[0m\u001b[1;33m:\u001b[0m \u001b[0mstr\u001b[0m\u001b[1;33m)\u001b[0m \u001b[1;33m->\u001b[0m \u001b[0mUnion\u001b[0m\u001b[1;33m[\u001b[0m\u001b[0mAny\u001b[0m\u001b[1;33m]\u001b[0m\u001b[1;33m:\u001b[0m\u001b[1;33m\u001b[0m\u001b[1;33m\u001b[0m\u001b[0m\n",
      "\u001b[1;32m~\\Anaconda3\\envs\\pytorch_local\\lib\\site-packages\\transformers\\feature_extraction_utils.py\u001b[0m in \u001b[0;36mconvert_to_tensors\u001b[1;34m(self, tensor_type)\u001b[0m\n\u001b[0;32m    162\u001b[0m                 \u001b[1;32mif\u001b[0m \u001b[0mkey\u001b[0m \u001b[1;33m==\u001b[0m \u001b[1;34m\"overflowing_values\"\u001b[0m\u001b[1;33m:\u001b[0m\u001b[1;33m\u001b[0m\u001b[1;33m\u001b[0m\u001b[0m\n\u001b[0;32m    163\u001b[0m                     \u001b[1;32mraise\u001b[0m \u001b[0mValueError\u001b[0m\u001b[1;33m(\u001b[0m\u001b[1;34m\"Unable to create tensor returning overflowing values of different lengths. \"\u001b[0m\u001b[1;33m)\u001b[0m\u001b[1;33m\u001b[0m\u001b[1;33m\u001b[0m\u001b[0m\n\u001b[1;32m--> 164\u001b[1;33m                 raise ValueError(\n\u001b[0m\u001b[0;32m    165\u001b[0m                     \u001b[1;34m\"Unable to create tensor, you should probably activate padding \"\u001b[0m\u001b[1;33m\u001b[0m\u001b[1;33m\u001b[0m\u001b[0m\n\u001b[0;32m    166\u001b[0m                     \u001b[1;34m\"with 'padding=True' to have batched tensors with the same length.\"\u001b[0m\u001b[1;33m\u001b[0m\u001b[1;33m\u001b[0m\u001b[0m\n",
      "\u001b[1;31mValueError\u001b[0m: Unable to create tensor, you should probably activate padding with 'padding=True' to have batched tensors with the same length."
     ]
    }
   ],
   "source": [
    "dl = HidaDataLoader(num_workers=0, batch_size=2, data_path=\"../data\", transform=transform)\n",
    "dl.train_split = 0.6\n",
    "dl.setup()\n",
    "\n",
    "ONNX_FILE = \"C:/Users/Tobias/Downloads/model_9.onnx\"\n",
    "options = ort.SessionOptions()\n",
    "options.inter_op_num_threads = 12\n",
    "options.intra_op_num_threads = 12\n",
    "\n",
    "ort_sess2 = ort.InferenceSession(ONNX_FILE, sess_options=options)\n",
    "ort_sess2.get_inputs()[0].name\n",
    "\n",
    "valid_dataloader = dl.val_dataloader()\n",
    "\n",
    "input_name = ort_sess2.get_inputs()[0].name\n",
    "output_name = ort_sess2.get_outputs()[0].name\n",
    "\n",
    "predictions = []\n",
    "targets = []\n",
    "\n",
    "\n",
    "feature_extractor = ViTFeatureExtractor(do_resize=False, do_normalize=False)\n",
    "\n",
    "counter = 0\n",
    "for batch in tqdm(valid_dataloader):\n",
    "    model_input, label, (label_name, image_name) = batch\n",
    "    features = feature_extractor(model_input, return_tensors=\"pt\")\n",
    "    outputs_single = sc.expit(ort_sess2.run([output_name], {input_name: features[\"pixel_values\"][0]})[0]).T[0]\n",
    "    predictions += list(outputs_single)\n",
    "    targets += list(image_name)\n",
    "    counter += 1\n",
    "\n",
    "vision_results = dict(predictions_resnet=predictions, images=targets)\n",
    "vision_df = pd.DataFrame(vision_results)"
   ]
  },
  {
   "cell_type": "markdown",
   "id": "5a4bdd21",
   "metadata": {},
   "source": [
    "# impute datasets:\n"
   ]
  },
  {
   "cell_type": "code",
   "execution_count": 4,
   "id": "e180c5a1",
   "metadata": {},
   "outputs": [],
   "source": [
    "\n",
    "train_data = \"../data/trainSet/trainSet.txt\"\n",
    "test_data = \"../data/testSet/testSet.txt\"\n",
    "\n",
    "df_train = pd.read_csv(train_data)\n",
    "df_train_length_idx = len(df_train)\n",
    "df_test = pd.read_csv(test_data)\n",
    "\n",
    "# Merge the two datasets\n",
    "train_test = [df_train, df_test]\n",
    "df_train_test = pd.concat(train_test)\n",
    "# df_train_test['Prognosis'].loc[df_train_test['Prognosis'] == '<undefined>'] = np.nan\n",
    "df_train_test.loc[df_train_test['Prognosis'] == '<undefined>', 'Prognosis'] = np.nan\n",
    "\n",
    "# all variables in the dataset (incl. outcome)\n",
    "variables = list(df_train_test.columns[3:])\n",
    "# which variables to use for catboost (only numerical ones!)\n",
    "variables_for_regression = ['WBC', 'Temp_C', 'CRP', 'Fibrinogen', 'LDH', 'Ddimer', 'Ox_percentage', 'PaO2', 'SaO2', 'pH', 'Age']\n",
    "variables_for_classification = [ 'RespiratoryFailure', 'Sex', 'CardiovascularDisease', 'DifficultyInBreathing', 'Cough']\n",
    "\n",
    "# Set up catboost for each variable separately\n",
    "# Here we don't update and always use the original dataset with missing values in all variables\n",
    "\n",
    "# Generate new dataframe for imputed values (for this we copy the original test_trai datetset and store the index of the imputed ones and fill them in)\n",
    "df_imputed_train_test = df_train_test.copy()\n",
    "del df_imputed_train_test['Prognosis']\n",
    "\n",
    "# Prognosis should be Boolian\n",
    "df_imputed_train_test['Prognosis']= np.nan\n",
    "df_imputed_train_test.loc[df_train_test['Prognosis']=='MILD', 'Prognosis'] = 0\n",
    "df_imputed_train_test.loc[df_train_test['Prognosis']=='SEVERE', 'Prognosis'] = 1\n",
    "\n",
    "\n",
    "df_train_test['Prognosis'] = df_imputed_train_test['Prognosis']\n",
    "\n",
    "if not os.path.isfile(\"imputed_test.csv\"):\n",
    "    for catboost_variable in variables_for_regression:\n",
    "        print(catboost_variable)\n",
    "        catboost_features = variables.copy()\n",
    "        catboost_features.remove(catboost_variable)\n",
    "        catboost_df_train_test = df_train_test[df_train_test[catboost_variable].notna()]\n",
    "        X_train = catboost_df_train_test[catboost_features]\n",
    "        y_train = catboost_df_train_test[catboost_variable]\n",
    "\n",
    "        index_missing = df_train_test[catboost_variable].isna()\n",
    "        catboost_df_test = df_train_test[df_train_test[catboost_variable].isna()]\n",
    "        X_test = catboost_df_test[catboost_features]\n",
    "        y_test = catboost_df_test[catboost_variable]\n",
    "\n",
    "        # fit the model \n",
    "        model = CatBoostRegressor(verbose=0, iterations=1000, task_type=\"GPU\", devices='0:1')\n",
    "        model.fit(X_train.values, y_train.values)\n",
    "\n",
    "        # make a prediction\n",
    "        yhat = model.predict(X_test.values)\n",
    "        df_imputed_train_test.loc[df_imputed_train_test[catboost_variable].isna(), catboost_variable] = yhat.T[0].copy()\n",
    "\n",
    "\n",
    "    for catboost_variable in variables_for_classification:\n",
    "        print(catboost_variable)\n",
    "        catboost_features = variables.copy()\n",
    "        catboost_features.remove(catboost_variable)\n",
    "        catboost_df_train_test = df_train_test[df_train_test[catboost_variable].notna()]\n",
    "        X_train = catboost_df_train_test[catboost_features]\n",
    "        y_train = catboost_df_train_test[catboost_variable]\n",
    "\n",
    "        index_missing = df_train_test[catboost_variable].isna()\n",
    "        catboost_df_test = df_train_test[df_train_test[catboost_variable].isna()]\n",
    "        X_test = catboost_df_test[catboost_features]\n",
    "        y_test = catboost_df_test[catboost_variable]\n",
    "\n",
    "        # fit the model \n",
    "        model = CatBoostClassifier(verbose=0, iterations=1000, task_type=\"GPU\", devices='0:1')\n",
    "        model.fit(X_train.values, y_train.values)\n",
    "\n",
    "        # make a prediction\n",
    "        yhat = model.predict(X_test.values)\n",
    "        df_imputed_train_test.loc[df_imputed_train_test[catboost_variable].isna(), catboost_variable] = yhat.T[0].copy()\n",
    "\n",
    "    # separate the two datasets:\n",
    "    df_imputed_train = df_imputed_train_test.iloc[0:df_train_length_idx, : ]\n",
    "    df_imputed_test = df_imputed_train_test.iloc[df_train_length_idx:, :]\n",
    "\n",
    "    df_imputed_train.to_csv(\"imputed_train.csv\")\n",
    "    df_imputed_test.to_csv(\"imputed_test.csv\")\n",
    "\n",
    "else:\n",
    "    df_imputed_train = pd.read_csv(\"imputed_train.csv\")\n",
    "    df_imputed_test = pd.read_csv(\"imputed_test.csv\")\n"
   ]
  },
  {
   "cell_type": "markdown",
   "id": "8eed3157",
   "metadata": {},
   "source": [
    "# Train tabular models\n",
    "### train catboost not imputed:"
   ]
  },
  {
   "cell_type": "code",
   "execution_count": 5,
   "id": "3c84a550",
   "metadata": {},
   "outputs": [
    {
     "data": {
      "text/plain": [
       "<catboost.core.CatBoostClassifier at 0x273b0f23040>"
      ]
     },
     "execution_count": 5,
     "metadata": {},
     "output_type": "execute_result"
    }
   ],
   "source": [
    "df_for_rf = df_train.copy()\n",
    "df_for_rf[\"Prognosis\"] = df_for_rf[\"Prognosis\"].astype(\"category\").cat.codes\n",
    "df_for_rf = df_for_rf[variables]\n",
    "\n",
    "catboost_features = variables.copy()\n",
    "catboost_features.remove(\"Prognosis\")\n",
    "\n",
    "train_valid_split = 0.8\n",
    "sep_index = int(863 * train_valid_split)\n",
    "\n",
    "X_train = df_for_rf[catboost_features].iloc[0:sep_index]\n",
    "y_train = df_for_rf[\"Prognosis\"].iloc[0:sep_index]\n",
    "\n",
    "\n",
    "X_test = df_for_rf[catboost_features].iloc[sep_index:]\n",
    "y_test = df_for_rf[\"Prognosis\"].iloc[sep_index:]\n",
    "image_names = df_train[\"ImageFile\"].iloc[sep_index:]\n",
    "\n",
    "# fit the model \n",
    "cat_boost_raw_model = CatBoostClassifier(verbose=0, iterations=1000, task_type=\"GPU\", devices='0:1')\n",
    "cat_boost_raw_model.fit(X_train.values, y_train.values)"
   ]
  },
  {
   "cell_type": "markdown",
   "id": "d5ac5acb",
   "metadata": {},
   "source": [
    "### xgboost not imputed"
   ]
  },
  {
   "cell_type": "code",
   "execution_count": 63,
   "id": "a4202001",
   "metadata": {},
   "outputs": [
    {
     "name": "stdout",
     "output_type": "stream",
     "text": [
      "[12:33:15] WARNING: C:/Users/Administrator/workspace/xgboost-win64_release_1.4.0/src/learner.cc:1095: Starting in XGBoost 1.3.0, the default evaluation metric used with the objective 'binary:logistic' was changed from 'error' to 'logloss'. Explicitly set eval_metric if you'd like to restore the old behavior.\n"
     ]
    },
    {
     "name": "stderr",
     "output_type": "stream",
     "text": [
      "C:\\Users\\Tobias\\Anaconda3\\envs\\pytorch_local\\lib\\site-packages\\xgboost\\sklearn.py:1146: UserWarning: The use of label encoder in XGBClassifier is deprecated and will be removed in a future release. To remove this warning, do the following: 1) Pass option use_label_encoder=False when constructing XGBClassifier object; and 2) Encode your labels (y) as integers starting with 0, i.e. 0, 1, 2, ..., [num_class - 1].\n",
      "  warnings.warn(label_encoder_deprecation_msg, UserWarning)\n"
     ]
    },
    {
     "data": {
      "text/plain": [
       "XGBClassifier(base_score=0.5, booster='gbtree', colsample_bylevel=1,\n",
       "              colsample_bynode=1, colsample_bytree=1, gamma=0, gpu_id=-1,\n",
       "              importance_type='gain', interaction_constraints='',\n",
       "              learning_rate=0.300000012, max_delta_step=0, max_depth=6,\n",
       "              min_child_weight=1, missing=nan, monotone_constraints='()',\n",
       "              n_estimators=100, n_jobs=8, num_parallel_tree=1, random_state=0,\n",
       "              reg_alpha=0, reg_lambda=1, scale_pos_weight=1, subsample=1,\n",
       "              tree_method='exact', validate_parameters=1, verbosity=None)"
      ]
     },
     "execution_count": 63,
     "metadata": {},
     "output_type": "execute_result"
    }
   ],
   "source": [
    "# get predictions from xgboost not imputed:\n",
    "df_for_xg = df_train.copy()\n",
    "df_for_xg[\"Prognosis\"] = df_for_xg[\"Prognosis\"].astype(\"category\").cat.codes\n",
    "df_for_xg = df_for_xg[variables]\n",
    "\n",
    "xgboost_features = variables.copy()\n",
    "xgboost_features.remove(\"Prognosis\")\n",
    "\n",
    "train_valid_split = 0.8\n",
    "sep_index = int(863 * train_valid_split)\n",
    "\n",
    "X_train = df_for_xg[xgboost_features].iloc[0:sep_index]\n",
    "y_train = df_for_xg[\"Prognosis\"].iloc[0:sep_index]\n",
    "\n",
    "\n",
    "X_test = df_for_xg[xgboost_features].iloc[sep_index:]\n",
    "y_test = df_for_xg[\"Prognosis\"].iloc[sep_index:]\n",
    "image_names = df_train[\"ImageFile\"].iloc[sep_index:]\n",
    "\n",
    "# fit model on training data\n",
    "model_xboost = XGBClassifier()\n",
    "model_xboost.fit(X_train.values, y_train.values)"
   ]
  },
  {
   "cell_type": "markdown",
   "id": "c1a86e0b",
   "metadata": {},
   "source": [
    "### train catboost imputed:"
   ]
  },
  {
   "cell_type": "code",
   "execution_count": 64,
   "id": "e69e2ad5",
   "metadata": {},
   "outputs": [
    {
     "data": {
      "text/plain": [
       "<catboost.core.CatBoostClassifier at 0x27383dba850>"
      ]
     },
     "execution_count": 64,
     "metadata": {},
     "output_type": "execute_result"
    }
   ],
   "source": [
    "catboost_features = variables.copy()\n",
    "catboost_features.remove(\"Prognosis\")\n",
    "\n",
    "train_valid_split = 0.8\n",
    "sep_index = int(863 * train_valid_split)\n",
    "\n",
    "X_train = df_imputed_train[catboost_features].iloc[0:sep_index]\n",
    "y_train = df_imputed_train[\"Prognosis\"].iloc[0:sep_index]\n",
    "\n",
    "X_test = df_imputed_train[catboost_features].iloc[sep_index:]\n",
    "y_test = df_imputed_train[\"Prognosis\"].iloc[sep_index:]\n",
    "image_names = df_train[\"ImageFile\"].iloc[sep_index:]\n",
    "\n",
    "# fit the model\n",
    "cat_boost_imputed_model = CatBoostClassifier(verbose=0, iterations=1000, task_type=\"GPU\", devices='0:1')\n",
    "cat_boost_imputed_model.fit(X_train.values, y_train.values)"
   ]
  },
  {
   "cell_type": "markdown",
   "id": "074f25d6",
   "metadata": {},
   "source": [
    "### train imputed random forest:"
   ]
  },
  {
   "cell_type": "code",
   "execution_count": 65,
   "id": "65bc38d1",
   "metadata": {},
   "outputs": [
    {
     "data": {
      "text/plain": [
       "RandomForestRegressor(n_estimators=20, random_state=0)"
      ]
     },
     "execution_count": 65,
     "metadata": {},
     "output_type": "execute_result"
    }
   ],
   "source": [
    "scaler = StandardScaler()\n",
    "X_train_scaled = scaler.fit_transform(X_train.values)\n",
    "X_test_scaled = scaler.transform(X_test.values)\n",
    "\n",
    "rf_regressor = RandomForestRegressor(n_estimators=20, random_state=0)\n",
    "rf_regressor.fit(X_train_scaled, y_train)"
   ]
  },
  {
   "cell_type": "markdown",
   "id": "17376d57",
   "metadata": {},
   "source": [
    "### xgboost imputed "
   ]
  },
  {
   "cell_type": "code",
   "execution_count": 66,
   "id": "831dd3a4",
   "metadata": {},
   "outputs": [
    {
     "name": "stdout",
     "output_type": "stream",
     "text": [
      "[12:34:08] WARNING: C:/Users/Administrator/workspace/xgboost-win64_release_1.4.0/src/learner.cc:1095: Starting in XGBoost 1.3.0, the default evaluation metric used with the objective 'binary:logistic' was changed from 'error' to 'logloss'. Explicitly set eval_metric if you'd like to restore the old behavior.\n"
     ]
    },
    {
     "name": "stderr",
     "output_type": "stream",
     "text": [
      "C:\\Users\\Tobias\\Anaconda3\\envs\\pytorch_local\\lib\\site-packages\\xgboost\\sklearn.py:1146: UserWarning: The use of label encoder in XGBClassifier is deprecated and will be removed in a future release. To remove this warning, do the following: 1) Pass option use_label_encoder=False when constructing XGBClassifier object; and 2) Encode your labels (y) as integers starting with 0, i.e. 0, 1, 2, ..., [num_class - 1].\n",
      "  warnings.warn(label_encoder_deprecation_msg, UserWarning)\n"
     ]
    },
    {
     "data": {
      "text/plain": [
       "XGBClassifier(base_score=0.5, booster='gbtree', colsample_bylevel=1,\n",
       "              colsample_bynode=1, colsample_bytree=1, gamma=0, gpu_id=-1,\n",
       "              importance_type='gain', interaction_constraints='',\n",
       "              learning_rate=0.300000012, max_delta_step=0, max_depth=6,\n",
       "              min_child_weight=1, missing=nan, monotone_constraints='()',\n",
       "              n_estimators=100, n_jobs=8, num_parallel_tree=1, random_state=0,\n",
       "              reg_alpha=0, reg_lambda=1, scale_pos_weight=1, subsample=1,\n",
       "              tree_method='exact', validate_parameters=1, verbosity=None)"
      ]
     },
     "execution_count": 66,
     "metadata": {},
     "output_type": "execute_result"
    }
   ],
   "source": [
    "# fit model on training data\n",
    "model_xboost_imputed = XGBClassifier()\n",
    "model_xboost_imputed.fit(X_train.values, y_train.values)\n"
   ]
  },
  {
   "cell_type": "markdown",
   "id": "d04fae00",
   "metadata": {},
   "source": [
    "# Get predictions to train final catboost:"
   ]
  },
  {
   "cell_type": "code",
   "execution_count": 75,
   "id": "f5769451",
   "metadata": {},
   "outputs": [
    {
     "name": "stderr",
     "output_type": "stream",
     "text": [
      "C:\\Users\\Tobias\\Anaconda3\\envs\\pytorch_local\\lib\\site-packages\\xgboost\\data.py:112: UserWarning: Use subset (sliced data) of np.ndarray is not recommended because it will generate extra copies and increase memory consumption\n",
      "  warnings.warn(\n"
     ]
    }
   ],
   "source": [
    "# from catboost raw:\n",
    "df_for_rf = df_train.copy()\n",
    "df_for_rf[\"Prognosis\"] = df_for_rf[\"Prognosis\"].astype(\"category\").cat.codes\n",
    "df_for_rf = df_for_rf[variables]\n",
    "\n",
    "catboost_features = variables.copy()\n",
    "catboost_features.remove(\"Prognosis\")\n",
    "\n",
    "train_valid_split = 0.6\n",
    "sep_index = int(863 * train_valid_split)\n",
    "\n",
    "X_test = df_for_rf[catboost_features].iloc[sep_index:]\n",
    "y_test = df_for_rf[\"Prognosis\"].iloc[sep_index:]\n",
    "image_names = df_train[\"ImageFile\"].iloc[sep_index:]\n",
    "\n",
    "yhat = cat_boost_raw_model.predict(X_test.values)\n",
    "\n",
    "catboost_results = dict(predictions_cb_raw=list(yhat), images=image_names.to_list())\n",
    "catboost_results_df = pd.DataFrame(catboost_results)\n",
    "\n",
    "# from xgboost raw:\n",
    "X_test = df_for_xg[xgboost_features].iloc[sep_index:]\n",
    "y_test = df_for_xg[\"Prognosis\"].iloc[sep_index:]\n",
    "image_names = df_train[\"ImageFile\"].iloc[sep_index:]\n",
    "y_pred = model_xboost.predict(X_test.values)\n",
    "xgboost_results = dict(predictions_xg=list(y_pred), images=image_names.to_list())\n",
    "xgboost_results_df = pd.DataFrame(xgboost_results)\n",
    "\n",
    "# from catbtoost imputed:\n",
    "catboost_features = variables.copy()\n",
    "catboost_features.remove(\"Prognosis\")\n",
    "\n",
    "X_test = df_imputed_train[catboost_features].iloc[sep_index:]\n",
    "y_test = df_imputed_train[\"Prognosis\"].iloc[sep_index:]\n",
    "image_names = df_train[\"ImageFile\"].iloc[sep_index:]\n",
    "\n",
    "yhat = cat_boost_imputed_model.predict(X_test.values)\n",
    "\n",
    "catboost_imputed_results = dict(predictions_cb_imputed=list(yhat), images=image_names.to_list(), targets=y_test.values)\n",
    "catboost_imputed_results_df = pd.DataFrame(catboost_imputed_results)\n",
    "\n",
    "# from random forest:\n",
    "X_test_scaled = scaler.transform(X_test.values)\n",
    "y_pred = rf_regressor.predict(X_test_scaled)\n",
    "\n",
    "rf_results = dict(predictions_rf=list(y_pred), images=image_names.to_list())\n",
    "rf_results_df = pd.DataFrame(rf_results)\n",
    "\n",
    "\n",
    "# from xgboost imputed:\n",
    "y_pred = model_xboost_imputed.predict(X_test.values)\n",
    "xgboost_imputed_results = dict(predictions_xg_imputed=list(y_pred), images=image_names.to_list())\n",
    "xgboost_imputed_results_df = pd.DataFrame(xgboost_imputed_results)"
   ]
  },
  {
   "cell_type": "markdown",
   "id": "daecc25d",
   "metadata": {},
   "source": [
    "# Stack predicions and train final model:"
   ]
  },
  {
   "cell_type": "code",
   "execution_count": 76,
   "id": "2716e97a",
   "metadata": {},
   "outputs": [],
   "source": [
    "rf_results_df = rf_results_df.set_index(\"images\")\n",
    "catboost_imputed_results_df = catboost_imputed_results_df.set_index(\"images\")\n",
    "catboost_results_df = catboost_results_df.set_index(\"images\")\n",
    "resnet_df = resnet_df.set_index(\"images\")\n",
    "xgboost_imputed_results_df = xgboost_imputed_results_df.set_index(\"images\")\n",
    "xgboost_results_df = xgboost_results_df.set_index(\"images\")"
   ]
  },
  {
   "cell_type": "code",
   "execution_count": 77,
   "id": "149b5415",
   "metadata": {},
   "outputs": [],
   "source": [
    "all_predictions = pd.concat([rf_results_df, catboost_imputed_results_df, catboost_results_df, resnet_df, xgboost_imputed_results_df, xgboost_results_df], axis=1)\n",
    "X_train = all_predictions.drop(columns=\"targets\").values[:-10]\n",
    "X_test = all_predictions.drop(columns=\"targets\").values[-10:]\n",
    "y_train = all_predictions[\"targets\"].values[:-10]\n",
    "y_test = all_predictions[\"targets\"].values[-10:]\n",
    "\n",
    "# final stacking model:\n",
    "final_model = CatBoostClassifier(verbose=0, iterations=1000, task_type=\"GPU\", devices='0:1')\n",
    "final_model.fit(X_train, y_train)\n",
    "yhat = final_model.predict(X_test)"
   ]
  },
  {
   "cell_type": "code",
   "execution_count": 78,
   "id": "786ae2cb",
   "metadata": {},
   "outputs": [
    {
     "data": {
      "text/html": [
       "<div>\n",
       "<style scoped>\n",
       "    .dataframe tbody tr th:only-of-type {\n",
       "        vertical-align: middle;\n",
       "    }\n",
       "\n",
       "    .dataframe tbody tr th {\n",
       "        vertical-align: top;\n",
       "    }\n",
       "\n",
       "    .dataframe thead th {\n",
       "        text-align: right;\n",
       "    }\n",
       "</style>\n",
       "<table border=\"1\" class=\"dataframe\">\n",
       "  <thead>\n",
       "    <tr style=\"text-align: right;\">\n",
       "      <th></th>\n",
       "      <th>predictions_rf</th>\n",
       "      <th>predictions_cb_imputed</th>\n",
       "      <th>targets</th>\n",
       "      <th>predictions_cb_raw</th>\n",
       "      <th>predictions_resnet</th>\n",
       "      <th>predictions_xg_imputed</th>\n",
       "      <th>predictions_xg</th>\n",
       "    </tr>\n",
       "    <tr>\n",
       "      <th>images</th>\n",
       "      <th></th>\n",
       "      <th></th>\n",
       "      <th></th>\n",
       "      <th></th>\n",
       "      <th></th>\n",
       "      <th></th>\n",
       "      <th></th>\n",
       "    </tr>\n",
       "  </thead>\n",
       "  <tbody>\n",
       "    <tr>\n",
       "      <th>P_404.png</th>\n",
       "      <td>0.05</td>\n",
       "      <td>0.0</td>\n",
       "      <td>0.0</td>\n",
       "      <td>0</td>\n",
       "      <td>0.444716</td>\n",
       "      <td>0.0</td>\n",
       "      <td>0</td>\n",
       "    </tr>\n",
       "    <tr>\n",
       "      <th>P_428.png</th>\n",
       "      <td>0.15</td>\n",
       "      <td>0.0</td>\n",
       "      <td>0.0</td>\n",
       "      <td>0</td>\n",
       "      <td>0.512289</td>\n",
       "      <td>0.0</td>\n",
       "      <td>0</td>\n",
       "    </tr>\n",
       "    <tr>\n",
       "      <th>P_507.png</th>\n",
       "      <td>0.80</td>\n",
       "      <td>1.0</td>\n",
       "      <td>1.0</td>\n",
       "      <td>1</td>\n",
       "      <td>0.457178</td>\n",
       "      <td>1.0</td>\n",
       "      <td>1</td>\n",
       "    </tr>\n",
       "    <tr>\n",
       "      <th>P_508.png</th>\n",
       "      <td>0.85</td>\n",
       "      <td>1.0</td>\n",
       "      <td>1.0</td>\n",
       "      <td>1</td>\n",
       "      <td>0.618459</td>\n",
       "      <td>1.0</td>\n",
       "      <td>1</td>\n",
       "    </tr>\n",
       "    <tr>\n",
       "      <th>P_526.png</th>\n",
       "      <td>0.65</td>\n",
       "      <td>0.0</td>\n",
       "      <td>1.0</td>\n",
       "      <td>0</td>\n",
       "      <td>0.639944</td>\n",
       "      <td>1.0</td>\n",
       "      <td>1</td>\n",
       "    </tr>\n",
       "    <tr>\n",
       "      <th>...</th>\n",
       "      <td>...</td>\n",
       "      <td>...</td>\n",
       "      <td>...</td>\n",
       "      <td>...</td>\n",
       "      <td>...</td>\n",
       "      <td>...</td>\n",
       "      <td>...</td>\n",
       "    </tr>\n",
       "    <tr>\n",
       "      <th>P_1_12.png</th>\n",
       "      <td>0.70</td>\n",
       "      <td>1.0</td>\n",
       "      <td>1.0</td>\n",
       "      <td>1</td>\n",
       "      <td>0.516278</td>\n",
       "      <td>1.0</td>\n",
       "      <td>1</td>\n",
       "    </tr>\n",
       "    <tr>\n",
       "      <th>P_1_8.png</th>\n",
       "      <td>0.70</td>\n",
       "      <td>1.0</td>\n",
       "      <td>1.0</td>\n",
       "      <td>1</td>\n",
       "      <td>0.419664</td>\n",
       "      <td>1.0</td>\n",
       "      <td>1</td>\n",
       "    </tr>\n",
       "    <tr>\n",
       "      <th>P_1_10.png</th>\n",
       "      <td>0.10</td>\n",
       "      <td>0.0</td>\n",
       "      <td>0.0</td>\n",
       "      <td>0</td>\n",
       "      <td>0.442719</td>\n",
       "      <td>0.0</td>\n",
       "      <td>0</td>\n",
       "    </tr>\n",
       "    <tr>\n",
       "      <th>P_1_26.png</th>\n",
       "      <td>0.35</td>\n",
       "      <td>0.0</td>\n",
       "      <td>1.0</td>\n",
       "      <td>1</td>\n",
       "      <td>0.453410</td>\n",
       "      <td>1.0</td>\n",
       "      <td>1</td>\n",
       "    </tr>\n",
       "    <tr>\n",
       "      <th>P_1_146.png</th>\n",
       "      <td>0.15</td>\n",
       "      <td>0.0</td>\n",
       "      <td>0.0</td>\n",
       "      <td>0</td>\n",
       "      <td>0.495341</td>\n",
       "      <td>0.0</td>\n",
       "      <td>0</td>\n",
       "    </tr>\n",
       "  </tbody>\n",
       "</table>\n",
       "<p>346 rows × 7 columns</p>\n",
       "</div>"
      ],
      "text/plain": [
       "             predictions_rf  predictions_cb_imputed  targets  \\\n",
       "images                                                         \n",
       "P_404.png              0.05                     0.0      0.0   \n",
       "P_428.png              0.15                     0.0      0.0   \n",
       "P_507.png              0.80                     1.0      1.0   \n",
       "P_508.png              0.85                     1.0      1.0   \n",
       "P_526.png              0.65                     0.0      1.0   \n",
       "...                     ...                     ...      ...   \n",
       "P_1_12.png             0.70                     1.0      1.0   \n",
       "P_1_8.png              0.70                     1.0      1.0   \n",
       "P_1_10.png             0.10                     0.0      0.0   \n",
       "P_1_26.png             0.35                     0.0      1.0   \n",
       "P_1_146.png            0.15                     0.0      0.0   \n",
       "\n",
       "             predictions_cb_raw  predictions_resnet  predictions_xg_imputed  \\\n",
       "images                                                                        \n",
       "P_404.png                     0            0.444716                     0.0   \n",
       "P_428.png                     0            0.512289                     0.0   \n",
       "P_507.png                     1            0.457178                     1.0   \n",
       "P_508.png                     1            0.618459                     1.0   \n",
       "P_526.png                     0            0.639944                     1.0   \n",
       "...                         ...                 ...                     ...   \n",
       "P_1_12.png                    1            0.516278                     1.0   \n",
       "P_1_8.png                     1            0.419664                     1.0   \n",
       "P_1_10.png                    0            0.442719                     0.0   \n",
       "P_1_26.png                    1            0.453410                     1.0   \n",
       "P_1_146.png                   0            0.495341                     0.0   \n",
       "\n",
       "             predictions_xg  \n",
       "images                       \n",
       "P_404.png                 0  \n",
       "P_428.png                 0  \n",
       "P_507.png                 1  \n",
       "P_508.png                 1  \n",
       "P_526.png                 1  \n",
       "...                     ...  \n",
       "P_1_12.png                1  \n",
       "P_1_8.png                 1  \n",
       "P_1_10.png                0  \n",
       "P_1_26.png                1  \n",
       "P_1_146.png               0  \n",
       "\n",
       "[346 rows x 7 columns]"
      ]
     },
     "execution_count": 78,
     "metadata": {},
     "output_type": "execute_result"
    }
   ],
   "source": [
    "all_predictions"
   ]
  },
  {
   "cell_type": "markdown",
   "id": "e2b6303e",
   "metadata": {},
   "source": [
    "# Get final predictions on testset for submission:"
   ]
  },
  {
   "cell_type": "code",
   "execution_count": 79,
   "id": "0d68eae1",
   "metadata": {},
   "outputs": [
    {
     "name": "stderr",
     "output_type": "stream",
     "text": [
      "100%|██████████████████████████████████████████████████████████████████████████████████████████████████████████████████████████████████████████████████████████████████████████| 12/12 [01:45<00:00,  8.82s/it]\n",
      "C:\\Users\\Tobias\\Anaconda3\\envs\\pytorch_local\\lib\\site-packages\\xgboost\\data.py:112: UserWarning: Use subset (sliced data) of np.ndarray is not recommended because it will generate extra copies and increase memory consumption\n",
      "  warnings.warn(\n",
      "C:\\Users\\Tobias\\Anaconda3\\envs\\pytorch_local\\lib\\site-packages\\xgboost\\data.py:112: UserWarning: Use subset (sliced data) of np.ndarray is not recommended because it will generate extra copies and increase memory consumption\n",
      "  warnings.warn(\n"
     ]
    }
   ],
   "source": [
    "# from resnet:\n",
    "dl = HidaDataLoader(num_workers=0, batch_size=8, data_path=\"../data\", transform=transform)\n",
    "dl.setup(stage=\"test\")\n",
    "\n",
    "predictions = []\n",
    "targets = []\n",
    "test_dataloader = dl.test_dataloader()\n",
    "\n",
    "counter = 0\n",
    "for batch in tqdm(test_dataloader):\n",
    "    model_input, label, (label_name, image_name) = batch\n",
    "    outputs_single = sc.expit(ort_sess.run([output_name], {input_name: model_input.cpu().numpy()})[0]).T[0]\n",
    "    predictions += list(outputs_single)\n",
    "    targets += list(image_name)\n",
    "\n",
    "resnset_results = dict(predictions_resnet=predictions, images=targets)\n",
    "resnet_df = pd.DataFrame(resnset_results)\n",
    "resnet_df[\"images\"] = resnet_df[\"images\"].apply(lambda x: x.split(\".\")[0])\n",
    "\n",
    "# from catboost raw:\n",
    "df_for_rf = df_test.copy()\n",
    "df_for_rf[\"Prognosis\"] = df_for_rf[\"Prognosis\"].astype(\"category\").cat.codes\n",
    "df_for_rf = df_for_rf[variables]\n",
    "\n",
    "catboost_features = variables.copy()\n",
    "catboost_features.remove(\"Prognosis\")\n",
    "\n",
    "X_test = df_for_rf[catboost_features]\n",
    "y_test = df_for_rf[\"Prognosis\"]\n",
    "image_names = df_test[\"PatientID\"]\n",
    "\n",
    "yhat = cat_boost_raw_model.predict(X_test.values)\n",
    "\n",
    "catboost_results = dict(predictions_cb_raw=list(yhat), images=image_names.to_list())\n",
    "catboost_results_df = pd.DataFrame(catboost_results)\n",
    "\n",
    "# from xgboost raw:\n",
    "y_pred = model_xboost.predict(X_test.values)\n",
    "xgboost_results = dict(predictions_xg=list(y_pred), images=image_names.to_list())\n",
    "xgboost_results_df = pd.DataFrame(xgboost_results)\n",
    "\n",
    "# from catbtoost imputed:\n",
    "catboost_features = variables.copy()\n",
    "catboost_features.remove(\"Prognosis\")\n",
    "\n",
    "X_test = df_imputed_test[catboost_features]\n",
    "y_test = df_imputed_test[\"Prognosis\"]\n",
    "image_names = df_test[\"PatientID\"]\n",
    "\n",
    "yhat = cat_boost_imputed_model.predict(X_test.values)\n",
    "\n",
    "catboost_imputed_results = dict(predictions_cb_imputed=list(yhat), images=image_names.to_list(), targets=y_test.values)\n",
    "catboost_imputed_results_df = pd.DataFrame(catboost_imputed_results)\n",
    "\n",
    "# from random forest:\n",
    "X_test_scaled = scaler.transform(X_test.values)\n",
    "y_pred = rf_regressor.predict(X_test_scaled)\n",
    "\n",
    "rf_results = dict(predictions_rf=list(y_pred), images=image_names.to_list())\n",
    "rf_results_df = pd.DataFrame(rf_results)\n",
    "\n",
    "# from xgboost imputed:\n",
    "y_pred = model_xboost_imputed.predict(X_test.values)\n",
    "xgboost_imputed_results = dict(predictions_xg_imputed=list(y_pred), images=image_names.to_list())\n",
    "xgboost_imputed_results_df = pd.DataFrame(xgboost_imputed_results)"
   ]
  },
  {
   "cell_type": "markdown",
   "id": "6cb2a507",
   "metadata": {},
   "source": [
    "### stack final predictions"
   ]
  },
  {
   "cell_type": "code",
   "execution_count": 80,
   "id": "80161b23",
   "metadata": {},
   "outputs": [],
   "source": [
    "# stack predicions:\n",
    "rf_results_df = rf_results_df.set_index(\"images\")\n",
    "catboost_imputed_results_df = catboost_imputed_results_df.set_index(\"images\")\n",
    "catboost_results_df = catboost_results_df.set_index(\"images\")\n",
    "resnet_df = resnet_df.set_index(\"images\")\n",
    "xgboost_imputed_results_df = xgboost_imputed_results_df.set_index(\"images\")\n",
    "xgboost_results_df = xgboost_results_df.set_index(\"images\")"
   ]
  },
  {
   "cell_type": "code",
   "execution_count": 81,
   "id": "a6d2fa56",
   "metadata": {},
   "outputs": [],
   "source": [
    "\n",
    "# make final prediction:\n",
    "all_predictions = pd.concat([rf_results_df, catboost_imputed_results_df, catboost_results_df, resnet_df, xgboost_imputed_results_df, xgboost_results_df], axis=1)\n",
    "X_test = all_predictions.drop(columns=\"targets\").values\n",
    "yhat = final_model.predict(X_test)"
   ]
  },
  {
   "cell_type": "code",
   "execution_count": 82,
   "id": "63dc0033",
   "metadata": {},
   "outputs": [
    {
     "data": {
      "text/html": [
       "<div>\n",
       "<style scoped>\n",
       "    .dataframe tbody tr th:only-of-type {\n",
       "        vertical-align: middle;\n",
       "    }\n",
       "\n",
       "    .dataframe tbody tr th {\n",
       "        vertical-align: top;\n",
       "    }\n",
       "\n",
       "    .dataframe thead th {\n",
       "        text-align: right;\n",
       "    }\n",
       "</style>\n",
       "<table border=\"1\" class=\"dataframe\">\n",
       "  <thead>\n",
       "    <tr style=\"text-align: right;\">\n",
       "      <th></th>\n",
       "      <th>predictions_cb_raw</th>\n",
       "    </tr>\n",
       "    <tr>\n",
       "      <th>images</th>\n",
       "      <th></th>\n",
       "    </tr>\n",
       "  </thead>\n",
       "  <tbody>\n",
       "    <tr>\n",
       "      <th>P_102</th>\n",
       "      <td>0</td>\n",
       "    </tr>\n",
       "    <tr>\n",
       "      <th>P_117</th>\n",
       "      <td>0</td>\n",
       "    </tr>\n",
       "    <tr>\n",
       "      <th>P_16</th>\n",
       "      <td>0</td>\n",
       "    </tr>\n",
       "    <tr>\n",
       "      <th>P_118</th>\n",
       "      <td>0</td>\n",
       "    </tr>\n",
       "    <tr>\n",
       "      <th>P_114</th>\n",
       "      <td>0</td>\n",
       "    </tr>\n",
       "    <tr>\n",
       "      <th>...</th>\n",
       "      <td>...</td>\n",
       "    </tr>\n",
       "    <tr>\n",
       "      <th>P_88</th>\n",
       "      <td>0</td>\n",
       "    </tr>\n",
       "    <tr>\n",
       "      <th>P_92</th>\n",
       "      <td>0</td>\n",
       "    </tr>\n",
       "    <tr>\n",
       "      <th>P_86</th>\n",
       "      <td>1</td>\n",
       "    </tr>\n",
       "    <tr>\n",
       "      <th>P_9</th>\n",
       "      <td>1</td>\n",
       "    </tr>\n",
       "    <tr>\n",
       "      <th>P_90</th>\n",
       "      <td>1</td>\n",
       "    </tr>\n",
       "  </tbody>\n",
       "</table>\n",
       "<p>120 rows × 1 columns</p>\n",
       "</div>"
      ],
      "text/plain": [
       "        predictions_cb_raw\n",
       "images                    \n",
       "P_102                    0\n",
       "P_117                    0\n",
       "P_16                     0\n",
       "P_118                    0\n",
       "P_114                    0\n",
       "...                    ...\n",
       "P_88                     0\n",
       "P_92                     0\n",
       "P_86                     1\n",
       "P_9                      1\n",
       "P_90                     1\n",
       "\n",
       "[120 rows x 1 columns]"
      ]
     },
     "execution_count": 82,
     "metadata": {},
     "output_type": "execute_result"
    }
   ],
   "source": [
    "catboost_results_df"
   ]
  },
  {
   "cell_type": "code",
   "execution_count": null,
   "id": "2c30ff33",
   "metadata": {},
   "outputs": [],
   "source": []
  }
 ],
 "metadata": {
  "kernelspec": {
   "display_name": "firstEnv",
   "language": "python",
   "name": "firstenv"
  },
  "language_info": {
   "codemirror_mode": {
    "name": "ipython",
    "version": 3
   },
   "file_extension": ".py",
   "mimetype": "text/x-python",
   "name": "python",
   "nbconvert_exporter": "python",
   "pygments_lexer": "ipython3",
   "version": "3.8.8"
  }
 },
 "nbformat": 4,
 "nbformat_minor": 5
}
